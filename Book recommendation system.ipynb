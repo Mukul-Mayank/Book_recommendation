{
 "cells": [
  {
   "cell_type": "markdown",
   "metadata": {},
   "source": [
    "IMPORTING REQUIRED LIBRARIES"
   ]
  },
  {
   "cell_type": "code",
   "execution_count": 509,
   "metadata": {},
   "outputs": [],
   "source": [
    "import pandas as pd\n",
    "import numpy as np\n",
    "import matplotlib.pyplot as plt\n",
    "import seaborn as sns"
   ]
  },
  {
   "cell_type": "code",
   "execution_count": 510,
   "metadata": {},
   "outputs": [],
   "source": [
    "# for interactive plots\n",
    "import ipywidgets\n",
    "from ipywidgets import interact\n",
    "from ipywidgets import interact_manual"
   ]
  },
  {
   "cell_type": "markdown",
   "metadata": {},
   "source": [
    "IMPORT DATASET"
   ]
  },
  {
   "cell_type": "code",
   "execution_count": 511,
   "metadata": {},
   "outputs": [
    {
     "data": {
      "text/html": [
       "<div>\n",
       "<style scoped>\n",
       "    .dataframe tbody tr th:only-of-type {\n",
       "        vertical-align: middle;\n",
       "    }\n",
       "\n",
       "    .dataframe tbody tr th {\n",
       "        vertical-align: top;\n",
       "    }\n",
       "\n",
       "    .dataframe thead th {\n",
       "        text-align: right;\n",
       "    }\n",
       "</style>\n",
       "<table border=\"1\" class=\"dataframe\">\n",
       "  <thead>\n",
       "    <tr style=\"text-align: right;\">\n",
       "      <th></th>\n",
       "      <th>bookID</th>\n",
       "      <th>title</th>\n",
       "      <th>authors</th>\n",
       "      <th>average_rating</th>\n",
       "      <th>isbn</th>\n",
       "      <th>isbn13</th>\n",
       "      <th>language_code</th>\n",
       "      <th>num_pages</th>\n",
       "      <th>ratings_count</th>\n",
       "      <th>text_reviews_count</th>\n",
       "      <th>publication_date</th>\n",
       "      <th>publisher</th>\n",
       "    </tr>\n",
       "  </thead>\n",
       "  <tbody>\n",
       "    <tr>\n",
       "      <th>0</th>\n",
       "      <td>1</td>\n",
       "      <td>Harry Potter and the Half-Blood Prince (Harry ...</td>\n",
       "      <td>J.K. Rowling/Mary GrandPré</td>\n",
       "      <td>4.57</td>\n",
       "      <td>439785960</td>\n",
       "      <td>9.78044E+12</td>\n",
       "      <td>eng</td>\n",
       "      <td>652</td>\n",
       "      <td>2095690</td>\n",
       "      <td>27591</td>\n",
       "      <td>9/16/2006</td>\n",
       "      <td>Scholastic Inc.</td>\n",
       "    </tr>\n",
       "    <tr>\n",
       "      <th>1</th>\n",
       "      <td>2</td>\n",
       "      <td>Harry Potter and the Order of the Phoenix (Har...</td>\n",
       "      <td>J.K. Rowling/Mary GrandPré</td>\n",
       "      <td>4.49</td>\n",
       "      <td>439358078</td>\n",
       "      <td>9.78044E+12</td>\n",
       "      <td>eng</td>\n",
       "      <td>870</td>\n",
       "      <td>2153167</td>\n",
       "      <td>29221</td>\n",
       "      <td>9/1/2004</td>\n",
       "      <td>Scholastic Inc.</td>\n",
       "    </tr>\n",
       "  </tbody>\n",
       "</table>\n",
       "</div>"
      ],
      "text/plain": [
       "   bookID                                              title  \\\n",
       "0       1  Harry Potter and the Half-Blood Prince (Harry ...   \n",
       "1       2  Harry Potter and the Order of the Phoenix (Har...   \n",
       "\n",
       "                      authors average_rating       isbn       isbn13  \\\n",
       "0  J.K. Rowling/Mary GrandPré           4.57  439785960  9.78044E+12   \n",
       "1  J.K. Rowling/Mary GrandPré           4.49  439358078  9.78044E+12   \n",
       "\n",
       "  language_code   num_pages  ratings_count  text_reviews_count  \\\n",
       "0           eng         652        2095690               27591   \n",
       "1           eng         870        2153167               29221   \n",
       "\n",
       "  publication_date        publisher  \n",
       "0        9/16/2006  Scholastic Inc.  \n",
       "1         9/1/2004  Scholastic Inc.  "
      ]
     },
     "execution_count": 511,
     "metadata": {},
     "output_type": "execute_result"
    }
   ],
   "source": [
    "books_dataset=pd.read_csv(r\"D:\\\\Machine learning project\\\\books.csv\")\n",
    "books_dataset.head(2)"
   ]
  },
  {
   "cell_type": "markdown",
   "metadata": {},
   "source": [
    "GETTING INFERENCE FROM DATASET"
   ]
  },
  {
   "cell_type": "code",
   "execution_count": 512,
   "metadata": {},
   "outputs": [],
   "source": [
    "# books_dataset.isnull().sum()"
   ]
  },
  {
   "cell_type": "code",
   "execution_count": 513,
   "metadata": {},
   "outputs": [],
   "source": [
    "# (books_dataset.isnull().sum().sum()/books_dataset.shape[0]*books_dataset.shape[1])*100"
   ]
  },
  {
   "cell_type": "code",
   "execution_count": 514,
   "metadata": {},
   "outputs": [
    {
     "data": {
      "text/plain": [
       "bookID  title                                                                                                         authors                     average_rating  isbn        isbn13       language_code    num_pages  ratings_count  text_reviews_count  publication_date  publisher         \n",
       "45641   Las aventuras de Tom Sawyer                                                                                   Mark Twain                  3.91            8497646983  9.7885E+12   spa            272          113            12                  5/28/2006         Edimat Libros         1\n",
       "1       Harry Potter and the Half-Blood Prince (Harry Potter  #6)                                                     J.K. Rowling/Mary GrandPré  4.57            439785960   9.78044E+12  eng            652          2095690        27591               9/16/2006         Scholastic Inc.       1\n",
       "2       Harry Potter and the Order of the Phoenix (Harry Potter  #5)                                                  J.K. Rowling/Mary GrandPré  4.49            439358078   9.78044E+12  eng            870          2153167        29221               9/1/2004          Scholastic Inc.       1\n",
       "4       Harry Potter and the Chamber of Secrets (Harry Potter  #2)                                                    J.K. Rowling                4.42            439554896   9.78044E+12  eng            352          6333           244                 11/1/2003         Scholastic            1\n",
       "5       Harry Potter and the Prisoner of Azkaban (Harry Potter  #3)                                                   J.K. Rowling/Mary GrandPré  4.56            043965548X  9.78044E+12  eng            435          2339585        36325               5/1/2004          Scholastic Inc.       1\n",
       "                                                                                                                                                                                                                                                                                                 ..\n",
       "16      The Hitchhiker's Guide to the Galaxy (Hitchhiker's Guide to the Galaxy  #1)                                   Douglas Adams/Stephen Fry   4.22            739322206   9.78074E+12  eng            6            1266           253                 3/23/2005         Random House Audio    1\n",
       "14      The Hitchhiker's Guide to the Galaxy (Hitchhiker's Guide to the Galaxy  #1)                                   Douglas Adams               4.22            1400052920  9.7814E+12   eng            215          4930           460                 8/3/2004          Crown                 1\n",
       "13      The Ultimate Hitchhiker's Guide to the Galaxy (Hitchhiker's Guide to the Galaxy  #1-5)                        Douglas Adams               4.38            345453743   9.78035E+12  eng            815          249558         4080                4/30/2002         Del Rey Books         1\n",
       "12      The Ultimate Hitchhiker's Guide: Five Complete Novels and One Story (Hitchhiker's Guide to the Galaxy  #1-5)  Douglas Adams               4.38            517226952   9.78052E+12  eng            815          3628           254                 11/1/2005         Gramercy Books        1\n",
       "10      Harry Potter Collection (Harry Potter  #1-6)                                                                  J.K. Rowling                4.73            439827604   9.78044E+12  eng            3342         28242          808                 9/12/2005         Scholastic            1\n",
       "Name: count, Length: 11126, dtype: int64"
      ]
     },
     "execution_count": 514,
     "metadata": {},
     "output_type": "execute_result"
    }
   ],
   "source": [
    "books_dataset.value_counts()"
   ]
  },
  {
   "cell_type": "code",
   "execution_count": 515,
   "metadata": {},
   "outputs": [
    {
     "data": {
      "text/plain": [
       "(11127, 12)"
      ]
     },
     "execution_count": 515,
     "metadata": {},
     "output_type": "execute_result"
    }
   ],
   "source": [
    "books_dataset.shape"
   ]
  },
  {
   "cell_type": "code",
   "execution_count": 516,
   "metadata": {},
   "outputs": [
    {
     "data": {
      "text/plain": [
       "Index(['bookID', 'title', 'authors', 'average_rating', 'isbn', 'isbn13',\n",
       "       'language_code', '  num_pages', 'ratings_count', 'text_reviews_count',\n",
       "       'publication_date', 'publisher'],\n",
       "      dtype='object')"
      ]
     },
     "execution_count": 516,
     "metadata": {},
     "output_type": "execute_result"
    }
   ],
   "source": [
    "books_dataset.columns"
   ]
  },
  {
   "cell_type": "markdown",
   "metadata": {},
   "source": [
    "to remove spaces between columns\n"
   ]
  },
  {
   "cell_type": "code",
   "execution_count": 517,
   "metadata": {},
   "outputs": [],
   "source": [
    "books_dataset.columns=books_dataset.columns.str.strip()"
   ]
  },
  {
   "cell_type": "code",
   "execution_count": 518,
   "metadata": {},
   "outputs": [],
   "source": [
    "# books_dataset.columns"
   ]
  },
  {
   "cell_type": "code",
   "execution_count": 519,
   "metadata": {},
   "outputs": [
    {
     "data": {
      "text/plain": [
       "bookID                 int64\n",
       "title                 object\n",
       "authors               object\n",
       "average_rating        object\n",
       "isbn                  object\n",
       "isbn13                object\n",
       "language_code         object\n",
       "num_pages             object\n",
       "ratings_count          int64\n",
       "text_reviews_count     int64\n",
       "publication_date      object\n",
       "publisher             object\n",
       "dtype: object"
      ]
     },
     "execution_count": 519,
     "metadata": {},
     "output_type": "execute_result"
    }
   ],
   "source": [
    "books_dataset.dtypes"
   ]
  },
  {
   "cell_type": "code",
   "execution_count": 520,
   "metadata": {},
   "outputs": [
    {
     "data": {
      "text/html": [
       "<div>\n",
       "<style scoped>\n",
       "    .dataframe tbody tr th:only-of-type {\n",
       "        vertical-align: middle;\n",
       "    }\n",
       "\n",
       "    .dataframe tbody tr th {\n",
       "        vertical-align: top;\n",
       "    }\n",
       "\n",
       "    .dataframe thead th {\n",
       "        text-align: right;\n",
       "    }\n",
       "</style>\n",
       "<table border=\"1\" class=\"dataframe\">\n",
       "  <thead>\n",
       "    <tr style=\"text-align: right;\">\n",
       "      <th></th>\n",
       "      <th>bookID</th>\n",
       "      <th>ratings_count</th>\n",
       "      <th>text_reviews_count</th>\n",
       "    </tr>\n",
       "  </thead>\n",
       "  <tbody>\n",
       "    <tr>\n",
       "      <th>count</th>\n",
       "      <td>11127.000000</td>\n",
       "      <td>1.112700e+04</td>\n",
       "      <td>11127.000000</td>\n",
       "    </tr>\n",
       "    <tr>\n",
       "      <th>mean</th>\n",
       "      <td>21310.938887</td>\n",
       "      <td>1.793647e+04</td>\n",
       "      <td>541.859531</td>\n",
       "    </tr>\n",
       "    <tr>\n",
       "      <th>std</th>\n",
       "      <td>13093.358023</td>\n",
       "      <td>1.124794e+05</td>\n",
       "      <td>2576.175586</td>\n",
       "    </tr>\n",
       "    <tr>\n",
       "      <th>min</th>\n",
       "      <td>1.000000</td>\n",
       "      <td>0.000000e+00</td>\n",
       "      <td>0.000000</td>\n",
       "    </tr>\n",
       "    <tr>\n",
       "      <th>25%</th>\n",
       "      <td>10287.000000</td>\n",
       "      <td>1.040000e+02</td>\n",
       "      <td>9.000000</td>\n",
       "    </tr>\n",
       "    <tr>\n",
       "      <th>50%</th>\n",
       "      <td>20287.000000</td>\n",
       "      <td>7.450000e+02</td>\n",
       "      <td>46.000000</td>\n",
       "    </tr>\n",
       "    <tr>\n",
       "      <th>75%</th>\n",
       "      <td>32104.500000</td>\n",
       "      <td>4.993500e+03</td>\n",
       "      <td>237.500000</td>\n",
       "    </tr>\n",
       "    <tr>\n",
       "      <th>max</th>\n",
       "      <td>45641.000000</td>\n",
       "      <td>4.597666e+06</td>\n",
       "      <td>94265.000000</td>\n",
       "    </tr>\n",
       "  </tbody>\n",
       "</table>\n",
       "</div>"
      ],
      "text/plain": [
       "             bookID  ratings_count  text_reviews_count\n",
       "count  11127.000000   1.112700e+04        11127.000000\n",
       "mean   21310.938887   1.793647e+04          541.859531\n",
       "std    13093.358023   1.124794e+05         2576.175586\n",
       "min        1.000000   0.000000e+00            0.000000\n",
       "25%    10287.000000   1.040000e+02            9.000000\n",
       "50%    20287.000000   7.450000e+02           46.000000\n",
       "75%    32104.500000   4.993500e+03          237.500000\n",
       "max    45641.000000   4.597666e+06        94265.000000"
      ]
     },
     "execution_count": 520,
     "metadata": {},
     "output_type": "execute_result"
    }
   ],
   "source": [
    "books_dataset.describe()"
   ]
  },
  {
   "cell_type": "markdown",
   "metadata": {},
   "source": [
    "#changing datatypes"
   ]
  },
  {
   "cell_type": "code",
   "execution_count": 521,
   "metadata": {},
   "outputs": [],
   "source": [
    "books_dataset = books_dataset[pd.to_numeric(books_dataset['average_rating'], errors='coerce').notnull()]\n",
    "books_dataset['average_rating'] = books_dataset['average_rating'].astype(float)\n"
   ]
  },
  {
   "cell_type": "code",
   "execution_count": 522,
   "metadata": {},
   "outputs": [],
   "source": [
    "books_dataset['average_rating'] = books_dataset['average_rating'].astype(float)\n",
    "books_dataset['num_pages'] = books_dataset['num_pages'].astype(float)\n"
   ]
  },
  {
   "cell_type": "code",
   "execution_count": 523,
   "metadata": {},
   "outputs": [],
   "source": [
    "books_dataset['isbn13'] = books_dataset['isbn13'].astype(float).astype(int)\n",
    "books_dataset['num_pages'] = books_dataset['num_pages'].astype(float).astype(int)"
   ]
  },
  {
   "cell_type": "code",
   "execution_count": 524,
   "metadata": {},
   "outputs": [
    {
     "data": {
      "text/html": [
       "<div>\n",
       "<style scoped>\n",
       "    .dataframe tbody tr th:only-of-type {\n",
       "        vertical-align: middle;\n",
       "    }\n",
       "\n",
       "    .dataframe tbody tr th {\n",
       "        vertical-align: top;\n",
       "    }\n",
       "\n",
       "    .dataframe thead th {\n",
       "        text-align: right;\n",
       "    }\n",
       "</style>\n",
       "<table border=\"1\" class=\"dataframe\">\n",
       "  <thead>\n",
       "    <tr style=\"text-align: right;\">\n",
       "      <th></th>\n",
       "      <th>title</th>\n",
       "      <th>authors</th>\n",
       "      <th>isbn</th>\n",
       "      <th>language_code</th>\n",
       "      <th>publication_date</th>\n",
       "      <th>publisher</th>\n",
       "    </tr>\n",
       "  </thead>\n",
       "  <tbody>\n",
       "    <tr>\n",
       "      <th>count</th>\n",
       "      <td>11124</td>\n",
       "      <td>11124</td>\n",
       "      <td>11124</td>\n",
       "      <td>11124</td>\n",
       "      <td>11124</td>\n",
       "      <td>11123</td>\n",
       "    </tr>\n",
       "    <tr>\n",
       "      <th>unique</th>\n",
       "      <td>10349</td>\n",
       "      <td>6640</td>\n",
       "      <td>11124</td>\n",
       "      <td>27</td>\n",
       "      <td>3679</td>\n",
       "      <td>2290</td>\n",
       "    </tr>\n",
       "    <tr>\n",
       "      <th>top</th>\n",
       "      <td>The Brothers Karamazov</td>\n",
       "      <td>P.G. Wodehouse</td>\n",
       "      <td>8497646983</td>\n",
       "      <td>eng</td>\n",
       "      <td>10/1/2005</td>\n",
       "      <td>Vintage</td>\n",
       "    </tr>\n",
       "    <tr>\n",
       "      <th>freq</th>\n",
       "      <td>9</td>\n",
       "      <td>40</td>\n",
       "      <td>1</td>\n",
       "      <td>8908</td>\n",
       "      <td>56</td>\n",
       "      <td>318</td>\n",
       "    </tr>\n",
       "  </tbody>\n",
       "</table>\n",
       "</div>"
      ],
      "text/plain": [
       "                         title         authors        isbn language_code  \\\n",
       "count                    11124           11124       11124         11124   \n",
       "unique                   10349            6640       11124            27   \n",
       "top     The Brothers Karamazov  P.G. Wodehouse  8497646983           eng   \n",
       "freq                         9              40           1          8908   \n",
       "\n",
       "       publication_date publisher  \n",
       "count             11124     11123  \n",
       "unique             3679      2290  \n",
       "top           10/1/2005   Vintage  \n",
       "freq                 56       318  "
      ]
     },
     "execution_count": 524,
     "metadata": {},
     "output_type": "execute_result"
    }
   ],
   "source": [
    "books_dataset.describe(include=object)"
   ]
  },
  {
   "cell_type": "markdown",
   "metadata": {},
   "source": [
    "duplicate data"
   ]
  },
  {
   "cell_type": "code",
   "execution_count": 525,
   "metadata": {},
   "outputs": [
    {
     "data": {
      "text/plain": [
       "np.False_"
      ]
     },
     "execution_count": 525,
     "metadata": {},
     "output_type": "execute_result"
    }
   ],
   "source": [
    "books_dataset.duplicated().any()"
   ]
  },
  {
   "cell_type": "code",
   "execution_count": 526,
   "metadata": {},
   "outputs": [
    {
     "name": "stdout",
     "output_type": "stream",
     "text": [
      "<class 'pandas.core.frame.DataFrame'>\n",
      "Index: 11124 entries, 0 to 11126\n",
      "Data columns (total 12 columns):\n",
      " #   Column              Non-Null Count  Dtype  \n",
      "---  ------              --------------  -----  \n",
      " 0   bookID              11124 non-null  int64  \n",
      " 1   title               11124 non-null  object \n",
      " 2   authors             11124 non-null  object \n",
      " 3   average_rating      11124 non-null  float64\n",
      " 4   isbn                11124 non-null  object \n",
      " 5   isbn13              11124 non-null  int64  \n",
      " 6   language_code       11124 non-null  object \n",
      " 7   num_pages           11124 non-null  int64  \n",
      " 8   ratings_count       11124 non-null  int64  \n",
      " 9   text_reviews_count  11124 non-null  int64  \n",
      " 10  publication_date    11124 non-null  object \n",
      " 11  publisher           11123 non-null  object \n",
      "dtypes: float64(1), int64(5), object(6)\n",
      "memory usage: 1.1+ MB\n"
     ]
    }
   ],
   "source": [
    "books_dataset.info()"
   ]
  },
  {
   "cell_type": "markdown",
   "metadata": {},
   "source": [
    "feature engineering\n",
    "extract important features\n",
    "reduce the size of feature\n",
    "creating new features from the existing ones"
   ]
  },
  {
   "cell_type": "code",
   "execution_count": 527,
   "metadata": {},
   "outputs": [
    {
     "data": {
      "text/plain": [
       "Index(['bookID', 'title', 'authors', 'average_rating', 'isbn', 'isbn13',\n",
       "       'language_code', 'num_pages', 'ratings_count', 'text_reviews_count',\n",
       "       'publication_date', 'publisher'],\n",
       "      dtype='object')"
      ]
     },
     "execution_count": 527,
     "metadata": {},
     "output_type": "execute_result"
    }
   ],
   "source": [
    "books_dataset.columns"
   ]
  },
  {
   "cell_type": "code",
   "execution_count": 528,
   "metadata": {},
   "outputs": [
    {
     "data": {
      "text/plain": [
       "239"
      ]
     },
     "execution_count": 528,
     "metadata": {},
     "output_type": "execute_result"
    }
   ],
   "source": [
    "books_dataset.isbn13.nunique()"
   ]
  },
  {
   "cell_type": "code",
   "execution_count": 529,
   "metadata": {},
   "outputs": [],
   "source": [
    "books_dataset.drop(['bookID','isbn','isbn13'],axis=1,inplace=True)"
   ]
  },
  {
   "cell_type": "code",
   "execution_count": 530,
   "metadata": {},
   "outputs": [
    {
     "data": {
      "text/plain": [
       "0         9/16/2006\n",
       "1          9/1/2004\n",
       "2         11/1/2003\n",
       "3          5/1/2004\n",
       "4         9/13/2004\n",
       "            ...    \n",
       "11122    12/21/2004\n",
       "11123     12/1/1988\n",
       "11124      8/1/1993\n",
       "11125     2/27/2007\n",
       "11126     5/28/2006\n",
       "Name: publication_date, Length: 11124, dtype: object"
      ]
     },
     "execution_count": 530,
     "metadata": {},
     "output_type": "execute_result"
    }
   ],
   "source": [
    "books_dataset.publication_date"
   ]
  },
  {
   "cell_type": "code",
   "execution_count": 531,
   "metadata": {},
   "outputs": [],
   "source": [
    "books_dataset['year']=books_dataset['publication_date'].str.split('/')\n",
    "books_dataset['year']=books_dataset['year'].apply(lambda x:x[2])"
   ]
  },
  {
   "cell_type": "code",
   "execution_count": 532,
   "metadata": {},
   "outputs": [
    {
     "data": {
      "text/html": [
       "<div>\n",
       "<style scoped>\n",
       "    .dataframe tbody tr th:only-of-type {\n",
       "        vertical-align: middle;\n",
       "    }\n",
       "\n",
       "    .dataframe tbody tr th {\n",
       "        vertical-align: top;\n",
       "    }\n",
       "\n",
       "    .dataframe thead th {\n",
       "        text-align: right;\n",
       "    }\n",
       "</style>\n",
       "<table border=\"1\" class=\"dataframe\">\n",
       "  <thead>\n",
       "    <tr style=\"text-align: right;\">\n",
       "      <th></th>\n",
       "      <th>title</th>\n",
       "      <th>authors</th>\n",
       "      <th>average_rating</th>\n",
       "      <th>language_code</th>\n",
       "      <th>num_pages</th>\n",
       "      <th>ratings_count</th>\n",
       "      <th>text_reviews_count</th>\n",
       "      <th>publication_date</th>\n",
       "      <th>publisher</th>\n",
       "      <th>year</th>\n",
       "    </tr>\n",
       "  </thead>\n",
       "  <tbody>\n",
       "    <tr>\n",
       "      <th>0</th>\n",
       "      <td>Harry Potter and the Half-Blood Prince (Harry ...</td>\n",
       "      <td>J.K. Rowling/Mary GrandPré</td>\n",
       "      <td>4.57</td>\n",
       "      <td>eng</td>\n",
       "      <td>652</td>\n",
       "      <td>2095690</td>\n",
       "      <td>27591</td>\n",
       "      <td>9/16/2006</td>\n",
       "      <td>Scholastic Inc.</td>\n",
       "      <td>2006</td>\n",
       "    </tr>\n",
       "    <tr>\n",
       "      <th>1</th>\n",
       "      <td>Harry Potter and the Order of the Phoenix (Har...</td>\n",
       "      <td>J.K. Rowling/Mary GrandPré</td>\n",
       "      <td>4.49</td>\n",
       "      <td>eng</td>\n",
       "      <td>870</td>\n",
       "      <td>2153167</td>\n",
       "      <td>29221</td>\n",
       "      <td>9/1/2004</td>\n",
       "      <td>Scholastic Inc.</td>\n",
       "      <td>2004</td>\n",
       "    </tr>\n",
       "  </tbody>\n",
       "</table>\n",
       "</div>"
      ],
      "text/plain": [
       "                                               title  \\\n",
       "0  Harry Potter and the Half-Blood Prince (Harry ...   \n",
       "1  Harry Potter and the Order of the Phoenix (Har...   \n",
       "\n",
       "                      authors  average_rating language_code  num_pages  \\\n",
       "0  J.K. Rowling/Mary GrandPré            4.57           eng        652   \n",
       "1  J.K. Rowling/Mary GrandPré            4.49           eng        870   \n",
       "\n",
       "   ratings_count  text_reviews_count publication_date        publisher  year  \n",
       "0        2095690               27591        9/16/2006  Scholastic Inc.  2006  \n",
       "1        2153167               29221         9/1/2004  Scholastic Inc.  2004  "
      ]
     },
     "execution_count": 532,
     "metadata": {},
     "output_type": "execute_result"
    }
   ],
   "source": [
    "books_dataset.head(2)"
   ]
  },
  {
   "cell_type": "code",
   "execution_count": 533,
   "metadata": {},
   "outputs": [],
   "source": [
    "books_dataset['year'] = books_dataset['year'].astype(float).astype(int)"
   ]
  },
  {
   "cell_type": "code",
   "execution_count": 534,
   "metadata": {},
   "outputs": [
    {
     "data": {
      "text/plain": [
       "(np.int64(1900), np.int64(2020))"
      ]
     },
     "execution_count": 534,
     "metadata": {},
     "output_type": "execute_result"
    }
   ],
   "source": [
    "books_dataset['year'].min(),books_dataset['year'].max()"
   ]
  },
  {
   "cell_type": "markdown",
   "metadata": {
    "tags": [
     "parameters"
    ]
   },
   "source": [
    "Data visualization"
   ]
  },
  {
   "cell_type": "markdown",
   "metadata": {},
   "source": [
    "exploratory data analysis"
   ]
  },
  {
   "cell_type": "code",
   "execution_count": 535,
   "metadata": {},
   "outputs": [
    {
     "data": {
      "text/plain": [
       "Index(['title', 'authors', 'average_rating', 'language_code', 'num_pages',\n",
       "       'ratings_count', 'text_reviews_count', 'publication_date', 'publisher',\n",
       "       'year'],\n",
       "      dtype='object')"
      ]
     },
     "execution_count": 535,
     "metadata": {},
     "output_type": "execute_result"
    }
   ],
   "source": [
    "books_dataset.columns"
   ]
  },
  {
   "cell_type": "code",
   "execution_count": 536,
   "metadata": {},
   "outputs": [
    {
     "data": {
      "text/html": [
       "<div>\n",
       "<style scoped>\n",
       "    .dataframe tbody tr th:only-of-type {\n",
       "        vertical-align: middle;\n",
       "    }\n",
       "\n",
       "    .dataframe tbody tr th {\n",
       "        vertical-align: top;\n",
       "    }\n",
       "\n",
       "    .dataframe thead th {\n",
       "        text-align: right;\n",
       "    }\n",
       "</style>\n",
       "<table border=\"1\" class=\"dataframe\">\n",
       "  <thead>\n",
       "    <tr style=\"text-align: right;\">\n",
       "      <th></th>\n",
       "      <th>title</th>\n",
       "      <th>authors</th>\n",
       "      <th>average_rating</th>\n",
       "      <th>language_code</th>\n",
       "      <th>num_pages</th>\n",
       "      <th>publisher</th>\n",
       "    </tr>\n",
       "  </thead>\n",
       "  <tbody>\n",
       "    <tr>\n",
       "      <th>9375</th>\n",
       "      <td>Consider the Lilies</td>\n",
       "      <td>Iain Crichton Smith/Isobel Murray</td>\n",
       "      <td>3.88</td>\n",
       "      <td>eng</td>\n",
       "      <td>144</td>\n",
       "      <td>Polygon</td>\n",
       "    </tr>\n",
       "  </tbody>\n",
       "</table>\n",
       "</div>"
      ],
      "text/plain": [
       "                    title                            authors  average_rating  \\\n",
       "9375  Consider the Lilies  Iain Crichton Smith/Isobel Murray            3.88   \n",
       "\n",
       "     language_code  num_pages publisher  \n",
       "9375           eng        144   Polygon  "
      ]
     },
     "execution_count": 536,
     "metadata": {},
     "output_type": "execute_result"
    }
   ],
   "source": [
    "books_dataset[books_dataset['year']==1900][['title','authors','average_rating','language_code','num_pages','publisher']]"
   ]
  },
  {
   "cell_type": "code",
   "execution_count": 537,
   "metadata": {},
   "outputs": [
    {
     "data": {
      "text/plain": [
       "year\n",
       "2006    1700\n",
       "2005    1260\n",
       "2004    1070\n",
       "2003     931\n",
       "2002     798\n",
       "2001     656\n",
       "2000     534\n",
       "2007     518\n",
       "1999     450\n",
       "1998     396\n",
       "1997     290\n",
       "1996     250\n",
       "1995     249\n",
       "1994     220\n",
       "1992     183\n",
       "1993     165\n",
       "1991     151\n",
       "1989     118\n",
       "1990     117\n",
       "1987      88\n",
       "Name: title, dtype: int64"
      ]
     },
     "execution_count": 537,
     "metadata": {},
     "output_type": "execute_result"
    }
   ],
   "source": [
    "books_dataset.groupby(['year'])['title'].agg('count').sort_values(ascending=False).head(20)"
   ]
  },
  {
   "cell_type": "code",
   "execution_count": 538,
   "metadata": {},
   "outputs": [
    {
     "data": {
      "image/png": "[encoded data removed]",
      "text/plain": [
       "<Figure size 2000x200 with 1 Axes>"
      ]
     },
     "metadata": {},
     "output_type": "display_data"
    }
   ],
   "source": [
    "plt.figure(figsize=(20,2))\n",
    "sns.countplot(x='authors',data=books_dataset,\n",
    "              order=books_dataset['authors'].value_counts().iloc[:10].index)\n",
    "plt.title(\"top 10 authors\")\n",
    "plt.xticks(fontsize=12)\n",
    "plt.show()"
   ]
  },
  {
   "cell_type": "code",
   "execution_count": 539,
   "metadata": {},
   "outputs": [],
   "source": [
    "# books_dataset.language_code.value_counts()"
   ]
  },
  {
   "cell_type": "code",
   "execution_count": 540,
   "metadata": {},
   "outputs": [
    {
     "data": {
      "text/plain": [
       "Index(['title', 'authors', 'average_rating', 'language_code', 'num_pages',\n",
       "       'ratings_count', 'text_reviews_count', 'publication_date', 'publisher',\n",
       "       'year'],\n",
       "      dtype='object')"
      ]
     },
     "execution_count": 540,
     "metadata": {},
     "output_type": "execute_result"
    }
   ],
   "source": [
    "books_dataset.columns"
   ]
  },
  {
   "cell_type": "code",
   "execution_count": 541,
   "metadata": {},
   "outputs": [
    {
     "data": {
      "text/html": [
       "<style type=\"text/css\">\n",
       "#T_f5793_row0_col0 {\n",
       "  background-color: #fe9000;\n",
       "  color: #f1f1f1;\n",
       "}\n",
       "#T_f5793_row0_col1, #T_f5793_row1_col1, #T_f5793_row13_col2, #T_f5793_row14_col1, #T_f5793_row18_col1, #T_f5793_row19_col1 {\n",
       "  background-color: #e4ff78;\n",
       "  color: #000000;\n",
       "}\n",
       "#T_f5793_row0_col2 {\n",
       "  background-color: #e7fd71;\n",
       "  color: #000000;\n",
       "}\n",
       "#T_f5793_row1_col0 {\n",
       "  background-color: #ffa500;\n",
       "  color: #000000;\n",
       "}\n",
       "#T_f5793_row1_col2, #T_f5793_row14_col2, #T_f5793_row16_col1 {\n",
       "  background-color: #e6fe74;\n",
       "  color: #000000;\n",
       "}\n",
       "#T_f5793_row2_col0 {\n",
       "  background-color: #fe9800;\n",
       "  color: #000000;\n",
       "}\n",
       "#T_f5793_row2_col1 {\n",
       "  background-color: #f8ee32;\n",
       "  color: #000000;\n",
       "}\n",
       "#T_f5793_row2_col2 {\n",
       "  background-color: #ffbd00;\n",
       "  color: #000000;\n",
       "}\n",
       "#T_f5793_row3_col0, #T_f5793_row4_col0, #T_f5793_row5_col0, #T_f5793_row19_col0, #T_f5793_row21_col0 {\n",
       "  background-color: #ff9b00;\n",
       "  color: #000000;\n",
       "}\n",
       "#T_f5793_row3_col1 {\n",
       "  background-color: #f0f54e;\n",
       "  color: #000000;\n",
       "}\n",
       "#T_f5793_row3_col2 {\n",
       "  background-color: #f5f03c;\n",
       "  color: #000000;\n",
       "}\n",
       "#T_f5793_row4_col1 {\n",
       "  background-color: #f7ef38;\n",
       "  color: #000000;\n",
       "}\n",
       "#T_f5793_row4_col2 {\n",
       "  background-color: #ffe81b;\n",
       "  color: #000000;\n",
       "}\n",
       "#T_f5793_row5_col1, #T_f5793_row5_col2, #T_f5793_row25_col0 {\n",
       "  background-color: #fc7f00;\n",
       "  color: #f1f1f1;\n",
       "}\n",
       "#T_f5793_row6_col0 {\n",
       "  background-color: #ff9d00;\n",
       "  color: #000000;\n",
       "}\n",
       "#T_f5793_row6_col1, #T_f5793_row7_col1, #T_f5793_row12_col1 {\n",
       "  background-color: #f4f141;\n",
       "  color: #000000;\n",
       "}\n",
       "#T_f5793_row6_col2 {\n",
       "  background-color: #f2f348;\n",
       "  color: #000000;\n",
       "}\n",
       "#T_f5793_row7_col0, #T_f5793_row8_col0 {\n",
       "  background-color: #fe9a00;\n",
       "  color: #000000;\n",
       "}\n",
       "#T_f5793_row7_col2 {\n",
       "  background-color: #eff654;\n",
       "  color: #000000;\n",
       "}\n",
       "#T_f5793_row8_col1, #T_f5793_row15_col2 {\n",
       "  background-color: #e5fe77;\n",
       "  color: #000000;\n",
       "}\n",
       "#T_f5793_row8_col2, #T_f5793_row17_col2, #T_f5793_row18_col2 {\n",
       "  background-color: #e5fe75;\n",
       "  color: #000000;\n",
       "}\n",
       "#T_f5793_row9_col0, #T_f5793_row26_col0 {\n",
       "  background-color: #fd8d00;\n",
       "  color: #f1f1f1;\n",
       "}\n",
       "#T_f5793_row9_col1, #T_f5793_row9_col2, #T_f5793_row10_col1, #T_f5793_row10_col2, #T_f5793_row11_col1, #T_f5793_row11_col2, #T_f5793_row13_col1, #T_f5793_row15_col1, #T_f5793_row17_col1, #T_f5793_row22_col0, #T_f5793_row22_col1, #T_f5793_row22_col2, #T_f5793_row25_col1, #T_f5793_row25_col2, #T_f5793_row26_col1, #T_f5793_row26_col2 {\n",
       "  background-color: #e4ff7a;\n",
       "  color: #000000;\n",
       "}\n",
       "#T_f5793_row10_col0 {\n",
       "  background-color: #ffa900;\n",
       "  color: #000000;\n",
       "}\n",
       "#T_f5793_row11_col0 {\n",
       "  background-color: #ffa100;\n",
       "  color: #000000;\n",
       "}\n",
       "#T_f5793_row12_col0 {\n",
       "  background-color: #fe9700;\n",
       "  color: #000000;\n",
       "}\n",
       "#T_f5793_row12_col2 {\n",
       "  background-color: #edf759;\n",
       "  color: #000000;\n",
       "}\n",
       "#T_f5793_row13_col0 {\n",
       "  background-color: #fe9200;\n",
       "  color: #000000;\n",
       "}\n",
       "#T_f5793_row14_col0 {\n",
       "  background-color: #fe9000;\n",
       "  color: #000000;\n",
       "}\n",
       "#T_f5793_row15_col0, #T_f5793_row16_col0 {\n",
       "  background-color: #fe9600;\n",
       "  color: #000000;\n",
       "}\n",
       "#T_f5793_row16_col2 {\n",
       "  background-color: #e7fc6f;\n",
       "  color: #000000;\n",
       "}\n",
       "#T_f5793_row17_col0 {\n",
       "  background-color: #fe9400;\n",
       "  color: #000000;\n",
       "}\n",
       "#T_f5793_row18_col0 {\n",
       "  background-color: #ffa300;\n",
       "  color: #000000;\n",
       "}\n",
       "#T_f5793_row19_col2 {\n",
       "  background-color: #e6fd72;\n",
       "  color: #000000;\n",
       "}\n",
       "#T_f5793_row20_col0 {\n",
       "  background-color: #fe9300;\n",
       "  color: #000000;\n",
       "}\n",
       "#T_f5793_row20_col1 {\n",
       "  background-color: #faec2a;\n",
       "  color: #000000;\n",
       "}\n",
       "#T_f5793_row20_col2 {\n",
       "  background-color: #f5f13f;\n",
       "  color: #000000;\n",
       "}\n",
       "#T_f5793_row21_col1 {\n",
       "  background-color: #fbeb27;\n",
       "  color: #000000;\n",
       "}\n",
       "#T_f5793_row21_col2 {\n",
       "  background-color: #f3f244;\n",
       "  color: #000000;\n",
       "}\n",
       "#T_f5793_row23_col0 {\n",
       "  background-color: #ffa700;\n",
       "  color: #000000;\n",
       "}\n",
       "#T_f5793_row23_col1 {\n",
       "  background-color: #f1f44b;\n",
       "  color: #000000;\n",
       "}\n",
       "#T_f5793_row23_col2 {\n",
       "  background-color: #fee91d;\n",
       "  color: #000000;\n",
       "}\n",
       "#T_f5793_row24_col0 {\n",
       "  background-color: #fd8e00;\n",
       "  color: #f1f1f1;\n",
       "}\n",
       "#T_f5793_row24_col1 {\n",
       "  background-color: #e9fb69;\n",
       "  color: #000000;\n",
       "}\n",
       "#T_f5793_row24_col2 {\n",
       "  background-color: #ebf962;\n",
       "  color: #000000;\n",
       "}\n",
       "</style>\n",
       "<table id=\"T_f5793\">\n",
       "  <thead>\n",
       "    <tr>\n",
       "      <th class=\"blank level0\" >&nbsp;</th>\n",
       "      <th id=\"T_f5793_level0_col0\" class=\"col_heading level0 col0\" >average_rating</th>\n",
       "      <th id=\"T_f5793_level0_col1\" class=\"col_heading level0 col1\" >ratings_count</th>\n",
       "      <th id=\"T_f5793_level0_col2\" class=\"col_heading level0 col2\" >text_reviews_count</th>\n",
       "    </tr>\n",
       "    <tr>\n",
       "      <th class=\"index_name level0\" >language_code</th>\n",
       "      <th class=\"blank col0\" >&nbsp;</th>\n",
       "      <th class=\"blank col1\" >&nbsp;</th>\n",
       "      <th class=\"blank col2\" >&nbsp;</th>\n",
       "    </tr>\n",
       "  </thead>\n",
       "  <tbody>\n",
       "    <tr>\n",
       "      <th id=\"T_f5793_level0_row0\" class=\"row_heading level0 row0\" >ale</th>\n",
       "      <td id=\"T_f5793_row0_col0\" class=\"data row0 col0\" >4.360000</td>\n",
       "      <td id=\"T_f5793_row0_col1\" class=\"data row0 col1\" >102.000000</td>\n",
       "      <td id=\"T_f5793_row0_col2\" class=\"data row0 col2\" >16.000000</td>\n",
       "    </tr>\n",
       "    <tr>\n",
       "      <th id=\"T_f5793_level0_row1\" class=\"row_heading level0 row1\" >ara</th>\n",
       "      <td id=\"T_f5793_row1_col0\" class=\"data row1 col0\" >3.550000</td>\n",
       "      <td id=\"T_f5793_row1_col1\" class=\"data row1 col1\" >122.000000</td>\n",
       "      <td id=\"T_f5793_row1_col2\" class=\"data row1 col2\" >12.000000</td>\n",
       "    </tr>\n",
       "    <tr>\n",
       "      <th id=\"T_f5793_level0_row2\" class=\"row_heading level0 row2\" >en-CA</th>\n",
       "      <td id=\"T_f5793_row2_col0\" class=\"data row2 col0\" >4.025714</td>\n",
       "      <td id=\"T_f5793_row2_col1\" class=\"data row2 col1\" >4086.714286</td>\n",
       "      <td id=\"T_f5793_row2_col2\" class=\"data row2 col2\" >324.428571</td>\n",
       "    </tr>\n",
       "    <tr>\n",
       "      <th id=\"T_f5793_level0_row3\" class=\"row_heading level0 row3\" >en-GB</th>\n",
       "      <td id=\"T_f5793_row3_col0\" class=\"data row3 col0\" >3.923411</td>\n",
       "      <td id=\"T_f5793_row3_col1\" class=\"data row3 col1\" >2463.691589</td>\n",
       "      <td id=\"T_f5793_row3_col2\" class=\"data row3 col2\" >104.060748</td>\n",
       "    </tr>\n",
       "    <tr>\n",
       "      <th id=\"T_f5793_level0_row4\" class=\"row_heading level0 row4\" >en-US</th>\n",
       "      <td id=\"T_f5793_row4_col0\" class=\"data row4 col0\" >3.914422</td>\n",
       "      <td id=\"T_f5793_row4_col1\" class=\"data row4 col1\" >3771.271824</td>\n",
       "      <td id=\"T_f5793_row4_col2\" class=\"data row4 col2\" >160.247693</td>\n",
       "    </tr>\n",
       "    <tr>\n",
       "      <th id=\"T_f5793_level0_row5\" class=\"row_heading level0 row5\" >eng</th>\n",
       "      <td id=\"T_f5793_row5_col0\" class=\"data row5 col0\" >3.934062</td>\n",
       "      <td id=\"T_f5793_row5_col1\" class=\"data row5 col1\" >21570.272564</td>\n",
       "      <td id=\"T_f5793_row5_col2\" class=\"data row5 col2\" >645.156601</td>\n",
       "    </tr>\n",
       "    <tr>\n",
       "      <th id=\"T_f5793_level0_row6\" class=\"row_heading level0 row6\" >enm</th>\n",
       "      <td id=\"T_f5793_row6_col0\" class=\"data row6 col0\" >3.873333</td>\n",
       "      <td id=\"T_f5793_row6_col1\" class=\"data row6 col1\" >3233.666667</td>\n",
       "      <td id=\"T_f5793_row6_col2\" class=\"data row6 col2\" >84.000000</td>\n",
       "    </tr>\n",
       "    <tr>\n",
       "      <th id=\"T_f5793_level0_row7\" class=\"row_heading level0 row7\" >fre</th>\n",
       "      <td id=\"T_f5793_row7_col0\" class=\"data row7 col0\" >3.971528</td>\n",
       "      <td id=\"T_f5793_row7_col1\" class=\"data row7 col1\" >3277.319444</td>\n",
       "      <td id=\"T_f5793_row7_col2\" class=\"data row7 col2\" >64.513889</td>\n",
       "    </tr>\n",
       "    <tr>\n",
       "      <th id=\"T_f5793_level0_row8\" class=\"row_heading level0 row8\" >ger</th>\n",
       "      <td id=\"T_f5793_row8_col0\" class=\"data row8 col0\" >3.950101</td>\n",
       "      <td id=\"T_f5793_row8_col1\" class=\"data row8 col1\" >234.727273</td>\n",
       "      <td id=\"T_f5793_row8_col2\" class=\"data row8 col2\" >8.232323</td>\n",
       "    </tr>\n",
       "    <tr>\n",
       "      <th id=\"T_f5793_level0_row9\" class=\"row_heading level0 row9\" >gla</th>\n",
       "      <td id=\"T_f5793_row9_col0\" class=\"data row9 col0\" >4.470000</td>\n",
       "      <td id=\"T_f5793_row9_col1\" class=\"data row9 col1\" >11.000000</td>\n",
       "      <td id=\"T_f5793_row9_col2\" class=\"data row9 col2\" >0.000000</td>\n",
       "    </tr>\n",
       "    <tr>\n",
       "      <th id=\"T_f5793_level0_row10\" class=\"row_heading level0 row10\" >glg</th>\n",
       "      <td id=\"T_f5793_row10_col0\" class=\"data row10 col0\" >3.360000</td>\n",
       "      <td id=\"T_f5793_row10_col1\" class=\"data row10 col1\" >36.000000</td>\n",
       "      <td id=\"T_f5793_row10_col2\" class=\"data row10 col2\" >2.000000</td>\n",
       "    </tr>\n",
       "    <tr>\n",
       "      <th id=\"T_f5793_level0_row11\" class=\"row_heading level0 row11\" >grc</th>\n",
       "      <td id=\"T_f5793_row11_col0\" class=\"data row11 col0\" >3.707273</td>\n",
       "      <td id=\"T_f5793_row11_col1\" class=\"data row11 col1\" >52.454545</td>\n",
       "      <td id=\"T_f5793_row11_col2\" class=\"data row11 col2\" >2.454545</td>\n",
       "    </tr>\n",
       "    <tr>\n",
       "      <th id=\"T_f5793_level0_row12\" class=\"row_heading level0 row12\" >ita</th>\n",
       "      <td id=\"T_f5793_row12_col0\" class=\"data row12 col0\" >4.078000</td>\n",
       "      <td id=\"T_f5793_row12_col1\" class=\"data row12 col1\" >3234.400000</td>\n",
       "      <td id=\"T_f5793_row12_col2\" class=\"data row12 col2\" >55.800000</td>\n",
       "    </tr>\n",
       "    <tr>\n",
       "      <th id=\"T_f5793_level0_row13\" class=\"row_heading level0 row13\" >jpn</th>\n",
       "      <td id=\"T_f5793_row13_col0\" class=\"data row13 col0\" >4.268696</td>\n",
       "      <td id=\"T_f5793_row13_col1\" class=\"data row13 col1\" >68.304348</td>\n",
       "      <td id=\"T_f5793_row13_col2\" class=\"data row13 col2\" >3.152174</td>\n",
       "    </tr>\n",
       "    <tr>\n",
       "      <th id=\"T_f5793_level0_row14\" class=\"row_heading level0 row14\" >lat</th>\n",
       "      <td id=\"T_f5793_row14_col0\" class=\"data row14 col0\" >4.353333</td>\n",
       "      <td id=\"T_f5793_row14_col1\" class=\"data row14 col1\" >114.666667</td>\n",
       "      <td id=\"T_f5793_row14_col2\" class=\"data row14 col2\" >12.333333</td>\n",
       "    </tr>\n",
       "    <tr>\n",
       "      <th id=\"T_f5793_level0_row15\" class=\"row_heading level0 row15\" >msa</th>\n",
       "      <td id=\"T_f5793_row15_col0\" class=\"data row15 col0\" >4.110000</td>\n",
       "      <td id=\"T_f5793_row15_col1\" class=\"data row15 col1\" >28.000000</td>\n",
       "      <td id=\"T_f5793_row15_col2\" class=\"data row15 col2\" >6.000000</td>\n",
       "    </tr>\n",
       "    <tr>\n",
       "      <th id=\"T_f5793_level0_row16\" class=\"row_heading level0 row16\" >mul</th>\n",
       "      <td id=\"T_f5793_row16_col0\" class=\"data row16 col0\" >4.126316</td>\n",
       "      <td id=\"T_f5793_row16_col1\" class=\"data row16 col1\" >386.631579</td>\n",
       "      <td id=\"T_f5793_row16_col2\" class=\"data row16 col2\" >19.263158</td>\n",
       "    </tr>\n",
       "    <tr>\n",
       "      <th id=\"T_f5793_level0_row17\" class=\"row_heading level0 row17\" >nl</th>\n",
       "      <td id=\"T_f5793_row17_col0\" class=\"data row17 col0\" >4.180000</td>\n",
       "      <td id=\"T_f5793_row17_col1\" class=\"data row17 col1\" >67.000000</td>\n",
       "      <td id=\"T_f5793_row17_col2\" class=\"data row17 col2\" >9.000000</td>\n",
       "    </tr>\n",
       "    <tr>\n",
       "      <th id=\"T_f5793_level0_row18\" class=\"row_heading level0 row18\" >nor</th>\n",
       "      <td id=\"T_f5793_row18_col0\" class=\"data row18 col0\" >3.600000</td>\n",
       "      <td id=\"T_f5793_row18_col1\" class=\"data row18 col1\" >86.000000</td>\n",
       "      <td id=\"T_f5793_row18_col2\" class=\"data row18 col2\" >8.000000</td>\n",
       "    </tr>\n",
       "    <tr>\n",
       "      <th id=\"T_f5793_level0_row19\" class=\"row_heading level0 row19\" >por</th>\n",
       "      <td id=\"T_f5793_row19_col0\" class=\"data row19 col0\" >3.945000</td>\n",
       "      <td id=\"T_f5793_row19_col1\" class=\"data row19 col1\" >165.100000</td>\n",
       "      <td id=\"T_f5793_row19_col2\" class=\"data row19 col2\" >13.500000</td>\n",
       "    </tr>\n",
       "    <tr>\n",
       "      <th id=\"T_f5793_level0_row20\" class=\"row_heading level0 row20\" >rus</th>\n",
       "      <td id=\"T_f5793_row20_col0\" class=\"data row20 col0\" >4.255000</td>\n",
       "      <td id=\"T_f5793_row20_col1\" class=\"data row20 col1\" >4477.000000</td>\n",
       "      <td id=\"T_f5793_row20_col2\" class=\"data row20 col2\" >98.500000</td>\n",
       "    </tr>\n",
       "    <tr>\n",
       "      <th id=\"T_f5793_level0_row21\" class=\"row_heading level0 row21\" >spa</th>\n",
       "      <td id=\"T_f5793_row21_col0\" class=\"data row21 col0\" >3.929312</td>\n",
       "      <td id=\"T_f5793_row21_col1\" class=\"data row21 col1\" >4636.114679</td>\n",
       "      <td id=\"T_f5793_row21_col2\" class=\"data row21 col2\" >91.123853</td>\n",
       "    </tr>\n",
       "    <tr>\n",
       "      <th id=\"T_f5793_level0_row22\" class=\"row_heading level0 row22\" >srp</th>\n",
       "      <td id=\"T_f5793_row22_col0\" class=\"data row22 col0\" >0.000000</td>\n",
       "      <td id=\"T_f5793_row22_col1\" class=\"data row22 col1\" >0.000000</td>\n",
       "      <td id=\"T_f5793_row22_col2\" class=\"data row22 col2\" >0.000000</td>\n",
       "    </tr>\n",
       "    <tr>\n",
       "      <th id=\"T_f5793_level0_row23\" class=\"row_heading level0 row23\" >swe</th>\n",
       "      <td id=\"T_f5793_row23_col0\" class=\"data row23 col0\" >3.455000</td>\n",
       "      <td id=\"T_f5793_row23_col1\" class=\"data row23 col1\" >2671.000000</td>\n",
       "      <td id=\"T_f5793_row23_col2\" class=\"data row23 col2\" >157.000000</td>\n",
       "    </tr>\n",
       "    <tr>\n",
       "      <th id=\"T_f5793_level0_row24\" class=\"row_heading level0 row24\" >tur</th>\n",
       "      <td id=\"T_f5793_row24_col0\" class=\"data row24 col0\" >4.420000</td>\n",
       "      <td id=\"T_f5793_row24_col1\" class=\"data row24 col1\" >1000.000000</td>\n",
       "      <td id=\"T_f5793_row24_col2\" class=\"data row24 col2\" >41.000000</td>\n",
       "    </tr>\n",
       "    <tr>\n",
       "      <th id=\"T_f5793_level0_row25\" class=\"row_heading level0 row25\" >wel</th>\n",
       "      <td id=\"T_f5793_row25_col0\" class=\"data row25 col0\" >5.000000</td>\n",
       "      <td id=\"T_f5793_row25_col1\" class=\"data row25 col1\" >1.000000</td>\n",
       "      <td id=\"T_f5793_row25_col2\" class=\"data row25 col2\" >0.000000</td>\n",
       "    </tr>\n",
       "    <tr>\n",
       "      <th id=\"T_f5793_level0_row26\" class=\"row_heading level0 row26\" >zho</th>\n",
       "      <td id=\"T_f5793_row26_col0\" class=\"data row26 col0\" >4.456429</td>\n",
       "      <td id=\"T_f5793_row26_col1\" class=\"data row26 col1\" >20.428571</td>\n",
       "      <td id=\"T_f5793_row26_col2\" class=\"data row26 col2\" >0.500000</td>\n",
       "    </tr>\n",
       "  </tbody>\n",
       "</table>\n"
      ],
      "text/plain": [
       "<pandas.io.formats.style.Styler at 0x2248abc3250>"
      ]
     },
     "execution_count": 541,
     "metadata": {},
     "output_type": "execute_result"
    }
   ],
   "source": [
    "books_dataset.groupby(['language_code'])[['average_rating','ratings_count','text_reviews_count']].agg('mean').style.background_gradient(cmap='Wistia')"
   ]
  },
  {
   "cell_type": "code",
   "execution_count": 542,
   "metadata": {},
   "outputs": [
    {
     "name": "stderr",
     "output_type": "stream",
     "text": [
      "C:\\Users\\VAISHNAVI\\AppData\\Local\\Temp\\ipykernel_6320\\141391559.py:4: FutureWarning: \n",
      "\n",
      "Passing `palette` without assigning `hue` is deprecated and will be removed in v0.14.0. Assign the `x` variable to `hue` and set `legend=False` for the same effect.\n",
      "\n",
      "  sns.barplot(x = book.index, y = book,\n"
     ]
    },
    {
     "data": {
      "image/png": "[encoded data removed]",
      "text/plain": [
       "<Figure size 2000x200 with 1 Axes>"
      ]
     },
     "metadata": {},
     "output_type": "display_data"
    }
   ],
   "source": [
    "# to find most occuring book in our data\n",
    "plt.figure(figsize = (20, 2))\n",
    "book = books_dataset['title'].value_counts()[:20]\n",
    "sns.barplot(x = book.index, y = book,\n",
    "           palette = 'winter_r')\n",
    "plt.title(\"Most occuring Books\")\n",
    "plt.xlabel(\"Number of Occurance\")\n",
    "plt.ylabel(\"Books\")\n",
    "plt.xticks(rotation = 75, fontsize = 13)\n",
    "plt.show()"
   ]
  },
  {
   "cell_type": "code",
   "execution_count": 543,
   "metadata": {},
   "outputs": [
    {
     "name": "stderr",
     "output_type": "stream",
     "text": [
      "C:\\Users\\VAISHNAVI\\AppData\\Local\\Temp\\ipykernel_6320\\1131837128.py:1: UserWarning: \n",
      "\n",
      "`distplot` is a deprecated function and will be removed in seaborn v0.14.0.\n",
      "\n",
      "Please adapt your code to use either `displot` (a figure-level function with\n",
      "similar flexibility) or `histplot` (an axes-level function for histograms).\n",
      "\n",
      "For a guide to updating your code to use the new functions, please see\n",
      "https://gist.github.com/mwaskom/de44147ed2974457ad6372750bbe5751\n",
      "\n",
      "  sns.distplot(books_dataset['average_rating'])\n"
     ]
    },
    {
     "data": {
      "image/png": "[encoded data removed]",
      "text/plain": [
       "<Figure size 640x480 with 1 Axes>"
      ]
     },
     "metadata": {},
     "output_type": "display_data"
    }
   ],
   "source": [
    "sns.distplot(books_dataset['average_rating'])\n",
    "plt.show()"
   ]
  },
  {
   "cell_type": "code",
   "execution_count": 544,
   "metadata": {},
   "outputs": [
    {
     "data": {
      "text/html": [
       "<div>\n",
       "<style scoped>\n",
       "    .dataframe tbody tr th:only-of-type {\n",
       "        vertical-align: middle;\n",
       "    }\n",
       "\n",
       "    .dataframe tbody tr th {\n",
       "        vertical-align: top;\n",
       "    }\n",
       "\n",
       "    .dataframe thead th {\n",
       "        text-align: right;\n",
       "    }\n",
       "</style>\n",
       "<table border=\"1\" class=\"dataframe\">\n",
       "  <thead>\n",
       "    <tr style=\"text-align: right;\">\n",
       "      <th></th>\n",
       "      <th>title</th>\n",
       "      <th>authors</th>\n",
       "      <th>language_code</th>\n",
       "      <th>publisher</th>\n",
       "    </tr>\n",
       "  </thead>\n",
       "  <tbody>\n",
       "    <tr>\n",
       "      <th>624</th>\n",
       "      <td>Comoediae 1: Acharenses/Equites/Nubes/Vespae/P...</td>\n",
       "      <td>Aristophanes/F.W. Hall/W.M. Geldart</td>\n",
       "      <td>grc</td>\n",
       "      <td>Oxford University Press  USA</td>\n",
       "    </tr>\n",
       "    <tr>\n",
       "      <th>786</th>\n",
       "      <td>Willem de Kooning: Late Paintings</td>\n",
       "      <td>Julie Sylvester/David Sylvester</td>\n",
       "      <td>eng</td>\n",
       "      <td>Schirmer Mosel</td>\n",
       "    </tr>\n",
       "    <tr>\n",
       "      <th>855</th>\n",
       "      <td>Literature Circle Guide: Bridge to Terabithia:...</td>\n",
       "      <td>Tara MacCarthy</td>\n",
       "      <td>eng</td>\n",
       "      <td>Teaching Resources</td>\n",
       "    </tr>\n",
       "    <tr>\n",
       "      <th>1243</th>\n",
       "      <td>Middlesex Borough (Images of America: New Jersey)</td>\n",
       "      <td>Middlesex Borough Heritage Committee</td>\n",
       "      <td>eng</td>\n",
       "      <td>Arcadia Publishing</td>\n",
       "    </tr>\n",
       "    <tr>\n",
       "      <th>4126</th>\n",
       "      <td>Zone of the Enders: The 2nd Runner Official St...</td>\n",
       "      <td>Tim Bogenn</td>\n",
       "      <td>eng</td>\n",
       "      <td>BradyGames</td>\n",
       "    </tr>\n",
       "    <tr>\n",
       "      <th>4790</th>\n",
       "      <td>The Diamond Color Meditation: Color Pathway to...</td>\n",
       "      <td>John  Diamond</td>\n",
       "      <td>eng</td>\n",
       "      <td>Square One Publishers</td>\n",
       "    </tr>\n",
       "    <tr>\n",
       "      <th>4935</th>\n",
       "      <td>Bulgakov's the Master and Margarita: The Text ...</td>\n",
       "      <td>Elena N. Mahlow</td>\n",
       "      <td>eng</td>\n",
       "      <td>Vantage Press</td>\n",
       "    </tr>\n",
       "    <tr>\n",
       "      <th>5025</th>\n",
       "      <td>The Complete Theory Fun Factory: Music Theory ...</td>\n",
       "      <td>Ian        Martin/Katie Elliott</td>\n",
       "      <td>eng</td>\n",
       "      <td>Boosey &amp; Hawkes Inc</td>\n",
       "    </tr>\n",
       "    <tr>\n",
       "      <th>5476</th>\n",
       "      <td>The Goon Show  Volume 4: My Knees Have Fallen ...</td>\n",
       "      <td>NOT A BOOK</td>\n",
       "      <td>eng</td>\n",
       "      <td>BBC Physical Audio</td>\n",
       "    </tr>\n",
       "    <tr>\n",
       "      <th>5478</th>\n",
       "      <td>The Goon Show  Volume 11: He's Fallen in the W...</td>\n",
       "      <td>NOT A BOOK</td>\n",
       "      <td>eng</td>\n",
       "      <td>BBC Physical Audio</td>\n",
       "    </tr>\n",
       "    <tr>\n",
       "      <th>5649</th>\n",
       "      <td>Winchester Shotguns</td>\n",
       "      <td>Dennis Adler/R.L. Wilson</td>\n",
       "      <td>eng</td>\n",
       "      <td>Chartwell Books</td>\n",
       "    </tr>\n",
       "    <tr>\n",
       "      <th>5650</th>\n",
       "      <td>Colossians and Philemon: A Critical and Exeget...</td>\n",
       "      <td>R. McL. Wilson</td>\n",
       "      <td>eng</td>\n",
       "      <td>T&amp;T Clark Int'l</td>\n",
       "    </tr>\n",
       "    <tr>\n",
       "      <th>6187</th>\n",
       "      <td>Taxation of Mineral Rents</td>\n",
       "      <td>Ross Garnaut</td>\n",
       "      <td>eng</td>\n",
       "      <td>Oxford University Press  USA</td>\n",
       "    </tr>\n",
       "    <tr>\n",
       "      <th>6250</th>\n",
       "      <td>The New Big Book of America</td>\n",
       "      <td>Todd Davis/Marc Frey</td>\n",
       "      <td>eng</td>\n",
       "      <td>Courage Books</td>\n",
       "    </tr>\n",
       "    <tr>\n",
       "      <th>6778</th>\n",
       "      <td>Delwau Duon: Peintiadau Nicholas Evans = Symph...</td>\n",
       "      <td>Nicholas    Evans/Rhonda  Evans</td>\n",
       "      <td>wel</td>\n",
       "      <td>Y Lolfa</td>\n",
       "    </tr>\n",
       "    <tr>\n",
       "      <th>8547</th>\n",
       "      <td>Fanning the Flame: Bible  Cross  and Mission</td>\n",
       "      <td>Chris    Green/Chris Wright/Paul Douglas Gardner</td>\n",
       "      <td>eng</td>\n",
       "      <td>Zondervan</td>\n",
       "    </tr>\n",
       "    <tr>\n",
       "      <th>9286</th>\n",
       "      <td>Oliver Wendell Holmes in Paris: Medicine  Theo...</td>\n",
       "      <td>William C. Dowling</td>\n",
       "      <td>eng</td>\n",
       "      <td>University Press of New England</td>\n",
       "    </tr>\n",
       "    <tr>\n",
       "      <th>9328</th>\n",
       "      <td>Tyrannosaurus Wrecks (Stanley  #1)</td>\n",
       "      <td>Laura Driscoll/Alisa Klayman-Grodsky/Eric     ...</td>\n",
       "      <td>eng</td>\n",
       "      <td>Disney Press</td>\n",
       "    </tr>\n",
       "    <tr>\n",
       "      <th>9724</th>\n",
       "      <td>The Irish Anatomist: A Study of Flann O'Brien</td>\n",
       "      <td>Keith Donohue</td>\n",
       "      <td>eng</td>\n",
       "      <td>Academica Press</td>\n",
       "    </tr>\n",
       "    <tr>\n",
       "      <th>9851</th>\n",
       "      <td>The American Campaign: U.S. Presidential Campa...</td>\n",
       "      <td>James E. Campbell</td>\n",
       "      <td>eng</td>\n",
       "      <td>Texas A&amp;M University Press</td>\n",
       "    </tr>\n",
       "    <tr>\n",
       "      <th>9897</th>\n",
       "      <td>His Princess Devotional: A Royal Encounter Wit...</td>\n",
       "      <td>Sheri Rose Shepherd</td>\n",
       "      <td>eng</td>\n",
       "      <td>Multnomah</td>\n",
       "    </tr>\n",
       "    <tr>\n",
       "      <th>10266</th>\n",
       "      <td>Bill Gates: Computer Legend (Famous Lives)</td>\n",
       "      <td>Sara Barton-Wood</td>\n",
       "      <td>eng</td>\n",
       "      <td>Raintree</td>\n",
       "    </tr>\n",
       "  </tbody>\n",
       "</table>\n",
       "</div>"
      ],
      "text/plain": [
       "                                                   title  \\\n",
       "624    Comoediae 1: Acharenses/Equites/Nubes/Vespae/P...   \n",
       "786                    Willem de Kooning: Late Paintings   \n",
       "855    Literature Circle Guide: Bridge to Terabithia:...   \n",
       "1243   Middlesex Borough (Images of America: New Jersey)   \n",
       "4126   Zone of the Enders: The 2nd Runner Official St...   \n",
       "4790   The Diamond Color Meditation: Color Pathway to...   \n",
       "4935   Bulgakov's the Master and Margarita: The Text ...   \n",
       "5025   The Complete Theory Fun Factory: Music Theory ...   \n",
       "5476   The Goon Show  Volume 4: My Knees Have Fallen ...   \n",
       "5478   The Goon Show  Volume 11: He's Fallen in the W...   \n",
       "5649                                 Winchester Shotguns   \n",
       "5650   Colossians and Philemon: A Critical and Exeget...   \n",
       "6187                           Taxation of Mineral Rents   \n",
       "6250                         The New Big Book of America   \n",
       "6778   Delwau Duon: Peintiadau Nicholas Evans = Symph...   \n",
       "8547        Fanning the Flame: Bible  Cross  and Mission   \n",
       "9286   Oliver Wendell Holmes in Paris: Medicine  Theo...   \n",
       "9328                  Tyrannosaurus Wrecks (Stanley  #1)   \n",
       "9724       The Irish Anatomist: A Study of Flann O'Brien   \n",
       "9851   The American Campaign: U.S. Presidential Campa...   \n",
       "9897   His Princess Devotional: A Royal Encounter Wit...   \n",
       "10266         Bill Gates: Computer Legend (Famous Lives)   \n",
       "\n",
       "                                                 authors language_code  \\\n",
       "624                  Aristophanes/F.W. Hall/W.M. Geldart           grc   \n",
       "786                      Julie Sylvester/David Sylvester           eng   \n",
       "855                                       Tara MacCarthy           eng   \n",
       "1243                Middlesex Borough Heritage Committee           eng   \n",
       "4126                                          Tim Bogenn           eng   \n",
       "4790                                       John  Diamond           eng   \n",
       "4935                                     Elena N. Mahlow           eng   \n",
       "5025                     Ian        Martin/Katie Elliott           eng   \n",
       "5476                                          NOT A BOOK           eng   \n",
       "5478                                          NOT A BOOK           eng   \n",
       "5649                            Dennis Adler/R.L. Wilson           eng   \n",
       "5650                                      R. McL. Wilson           eng   \n",
       "6187                                        Ross Garnaut           eng   \n",
       "6250                                Todd Davis/Marc Frey           eng   \n",
       "6778                     Nicholas    Evans/Rhonda  Evans           wel   \n",
       "8547    Chris    Green/Chris Wright/Paul Douglas Gardner           eng   \n",
       "9286                                  William C. Dowling           eng   \n",
       "9328   Laura Driscoll/Alisa Klayman-Grodsky/Eric     ...           eng   \n",
       "9724                                       Keith Donohue           eng   \n",
       "9851                                   James E. Campbell           eng   \n",
       "9897                                 Sheri Rose Shepherd           eng   \n",
       "10266                                   Sara Barton-Wood           eng   \n",
       "\n",
       "                             publisher  \n",
       "624       Oxford University Press  USA  \n",
       "786                     Schirmer Mosel  \n",
       "855                 Teaching Resources  \n",
       "1243                Arcadia Publishing  \n",
       "4126                        BradyGames  \n",
       "4790             Square One Publishers  \n",
       "4935                     Vantage Press  \n",
       "5025               Boosey & Hawkes Inc  \n",
       "5476                BBC Physical Audio  \n",
       "5478                BBC Physical Audio  \n",
       "5649                   Chartwell Books  \n",
       "5650                   T&T Clark Int'l  \n",
       "6187      Oxford University Press  USA  \n",
       "6250                     Courage Books  \n",
       "6778                           Y Lolfa  \n",
       "8547                         Zondervan  \n",
       "9286   University Press of New England  \n",
       "9328                      Disney Press  \n",
       "9724                   Academica Press  \n",
       "9851        Texas A&M University Press  \n",
       "9897                         Multnomah  \n",
       "10266                         Raintree  "
      ]
     },
     "execution_count": 544,
     "metadata": {},
     "output_type": "execute_result"
    }
   ],
   "source": [
    "books_dataset[books_dataset.average_rating == books_dataset.average_rating.max()][['title','authors','language_code','publisher']]\n"
   ]
  },
  {
   "cell_type": "code",
   "execution_count": 545,
   "metadata": {},
   "outputs": [
    {
     "data": {
      "text/plain": [
       "<function matplotlib.pyplot.show(close=None, block=None)>"
      ]
     },
     "execution_count": 545,
     "metadata": {},
     "output_type": "execute_result"
    },
    {
     "data": {
      "image/png": "[encoded data removed]",
      "text/plain": [
       "<Figure size 2000x200 with 1 Axes>"
      ]
     },
     "metadata": {},
     "output_type": "display_data"
    }
   ],
   "source": [
    "#to find most occuring book in our dataset\n",
    "book=books_dataset['title'].value_counts()[:20]\n",
    "book\n",
    "plt.figure(figsize=(20,2))\n",
    "sns.barplot(x=book.index,y=book,color='green')\n",
    "plt.title(\"Most occuring book\")\n",
    "plt.xticks(rotation=75,fontsize=10)\n",
    "plt.xlabel(\"Number of occurence\")\n",
    "plt.ylabel(\"Books\")\n",
    "plt.show"
   ]
  },
  {
   "cell_type": "code",
   "execution_count": 546,
   "metadata": {},
   "outputs": [
    {
     "name": "stderr",
     "output_type": "stream",
     "text": [
      "C:\\Users\\VAISHNAVI\\AppData\\Local\\Temp\\ipykernel_6320\\1905311348.py:2: UserWarning: \n",
      "\n",
      "`distplot` is a deprecated function and will be removed in seaborn v0.14.0.\n",
      "\n",
      "Please adapt your code to use either `displot` (a figure-level function with\n",
      "similar flexibility) or `histplot` (an axes-level function for histograms).\n",
      "\n",
      "For a guide to updating your code to use the new functions, please see\n",
      "https://gist.github.com/mwaskom/de44147ed2974457ad6372750bbe5751\n",
      "\n",
      "  sns.distplot(books_dataset['average_rating'])\n"
     ]
    },
    {
     "data": {
      "image/png": "[encoded data removed]",
      "text/plain": [
       "<Figure size 640x480 with 1 Axes>"
      ]
     },
     "metadata": {},
     "output_type": "display_data"
    }
   ],
   "source": [
    "#to check most reviewed \n",
    "sns.distplot(books_dataset['average_rating'])\n",
    "plt.show()"
   ]
  },
  {
   "cell_type": "code",
   "execution_count": 547,
   "metadata": {},
   "outputs": [
    {
     "data": {
      "text/html": [
       "<div>\n",
       "<style scoped>\n",
       "    .dataframe tbody tr th:only-of-type {\n",
       "        vertical-align: middle;\n",
       "    }\n",
       "\n",
       "    .dataframe tbody tr th {\n",
       "        vertical-align: top;\n",
       "    }\n",
       "\n",
       "    .dataframe thead th {\n",
       "        text-align: right;\n",
       "    }\n",
       "</style>\n",
       "<table border=\"1\" class=\"dataframe\">\n",
       "  <thead>\n",
       "    <tr style=\"text-align: right;\">\n",
       "      <th></th>\n",
       "      <th>title</th>\n",
       "      <th>authors</th>\n",
       "      <th>language_code</th>\n",
       "      <th>publisher</th>\n",
       "    </tr>\n",
       "  </thead>\n",
       "  <tbody>\n",
       "    <tr>\n",
       "      <th>624</th>\n",
       "      <td>Comoediae 1: Acharenses/Equites/Nubes/Vespae/P...</td>\n",
       "      <td>Aristophanes/F.W. Hall/W.M. Geldart</td>\n",
       "      <td>grc</td>\n",
       "      <td>Oxford University Press  USA</td>\n",
       "    </tr>\n",
       "    <tr>\n",
       "      <th>786</th>\n",
       "      <td>Willem de Kooning: Late Paintings</td>\n",
       "      <td>Julie Sylvester/David Sylvester</td>\n",
       "      <td>eng</td>\n",
       "      <td>Schirmer Mosel</td>\n",
       "    </tr>\n",
       "    <tr>\n",
       "      <th>855</th>\n",
       "      <td>Literature Circle Guide: Bridge to Terabithia:...</td>\n",
       "      <td>Tara MacCarthy</td>\n",
       "      <td>eng</td>\n",
       "      <td>Teaching Resources</td>\n",
       "    </tr>\n",
       "    <tr>\n",
       "      <th>1243</th>\n",
       "      <td>Middlesex Borough (Images of America: New Jersey)</td>\n",
       "      <td>Middlesex Borough Heritage Committee</td>\n",
       "      <td>eng</td>\n",
       "      <td>Arcadia Publishing</td>\n",
       "    </tr>\n",
       "    <tr>\n",
       "      <th>4126</th>\n",
       "      <td>Zone of the Enders: The 2nd Runner Official St...</td>\n",
       "      <td>Tim Bogenn</td>\n",
       "      <td>eng</td>\n",
       "      <td>BradyGames</td>\n",
       "    </tr>\n",
       "    <tr>\n",
       "      <th>4790</th>\n",
       "      <td>The Diamond Color Meditation: Color Pathway to...</td>\n",
       "      <td>John  Diamond</td>\n",
       "      <td>eng</td>\n",
       "      <td>Square One Publishers</td>\n",
       "    </tr>\n",
       "    <tr>\n",
       "      <th>4935</th>\n",
       "      <td>Bulgakov's the Master and Margarita: The Text ...</td>\n",
       "      <td>Elena N. Mahlow</td>\n",
       "      <td>eng</td>\n",
       "      <td>Vantage Press</td>\n",
       "    </tr>\n",
       "    <tr>\n",
       "      <th>5025</th>\n",
       "      <td>The Complete Theory Fun Factory: Music Theory ...</td>\n",
       "      <td>Ian        Martin/Katie Elliott</td>\n",
       "      <td>eng</td>\n",
       "      <td>Boosey &amp; Hawkes Inc</td>\n",
       "    </tr>\n",
       "    <tr>\n",
       "      <th>5476</th>\n",
       "      <td>The Goon Show  Volume 4: My Knees Have Fallen ...</td>\n",
       "      <td>NOT A BOOK</td>\n",
       "      <td>eng</td>\n",
       "      <td>BBC Physical Audio</td>\n",
       "    </tr>\n",
       "    <tr>\n",
       "      <th>5478</th>\n",
       "      <td>The Goon Show  Volume 11: He's Fallen in the W...</td>\n",
       "      <td>NOT A BOOK</td>\n",
       "      <td>eng</td>\n",
       "      <td>BBC Physical Audio</td>\n",
       "    </tr>\n",
       "    <tr>\n",
       "      <th>5649</th>\n",
       "      <td>Winchester Shotguns</td>\n",
       "      <td>Dennis Adler/R.L. Wilson</td>\n",
       "      <td>eng</td>\n",
       "      <td>Chartwell Books</td>\n",
       "    </tr>\n",
       "    <tr>\n",
       "      <th>5650</th>\n",
       "      <td>Colossians and Philemon: A Critical and Exeget...</td>\n",
       "      <td>R. McL. Wilson</td>\n",
       "      <td>eng</td>\n",
       "      <td>T&amp;T Clark Int'l</td>\n",
       "    </tr>\n",
       "    <tr>\n",
       "      <th>6187</th>\n",
       "      <td>Taxation of Mineral Rents</td>\n",
       "      <td>Ross Garnaut</td>\n",
       "      <td>eng</td>\n",
       "      <td>Oxford University Press  USA</td>\n",
       "    </tr>\n",
       "    <tr>\n",
       "      <th>6250</th>\n",
       "      <td>The New Big Book of America</td>\n",
       "      <td>Todd Davis/Marc Frey</td>\n",
       "      <td>eng</td>\n",
       "      <td>Courage Books</td>\n",
       "    </tr>\n",
       "    <tr>\n",
       "      <th>6778</th>\n",
       "      <td>Delwau Duon: Peintiadau Nicholas Evans = Symph...</td>\n",
       "      <td>Nicholas    Evans/Rhonda  Evans</td>\n",
       "      <td>wel</td>\n",
       "      <td>Y Lolfa</td>\n",
       "    </tr>\n",
       "    <tr>\n",
       "      <th>8547</th>\n",
       "      <td>Fanning the Flame: Bible  Cross  and Mission</td>\n",
       "      <td>Chris    Green/Chris Wright/Paul Douglas Gardner</td>\n",
       "      <td>eng</td>\n",
       "      <td>Zondervan</td>\n",
       "    </tr>\n",
       "    <tr>\n",
       "      <th>9286</th>\n",
       "      <td>Oliver Wendell Holmes in Paris: Medicine  Theo...</td>\n",
       "      <td>William C. Dowling</td>\n",
       "      <td>eng</td>\n",
       "      <td>University Press of New England</td>\n",
       "    </tr>\n",
       "    <tr>\n",
       "      <th>9328</th>\n",
       "      <td>Tyrannosaurus Wrecks (Stanley  #1)</td>\n",
       "      <td>Laura Driscoll/Alisa Klayman-Grodsky/Eric     ...</td>\n",
       "      <td>eng</td>\n",
       "      <td>Disney Press</td>\n",
       "    </tr>\n",
       "    <tr>\n",
       "      <th>9724</th>\n",
       "      <td>The Irish Anatomist: A Study of Flann O'Brien</td>\n",
       "      <td>Keith Donohue</td>\n",
       "      <td>eng</td>\n",
       "      <td>Academica Press</td>\n",
       "    </tr>\n",
       "    <tr>\n",
       "      <th>9851</th>\n",
       "      <td>The American Campaign: U.S. Presidential Campa...</td>\n",
       "      <td>James E. Campbell</td>\n",
       "      <td>eng</td>\n",
       "      <td>Texas A&amp;M University Press</td>\n",
       "    </tr>\n",
       "    <tr>\n",
       "      <th>9897</th>\n",
       "      <td>His Princess Devotional: A Royal Encounter Wit...</td>\n",
       "      <td>Sheri Rose Shepherd</td>\n",
       "      <td>eng</td>\n",
       "      <td>Multnomah</td>\n",
       "    </tr>\n",
       "    <tr>\n",
       "      <th>10266</th>\n",
       "      <td>Bill Gates: Computer Legend (Famous Lives)</td>\n",
       "      <td>Sara Barton-Wood</td>\n",
       "      <td>eng</td>\n",
       "      <td>Raintree</td>\n",
       "    </tr>\n",
       "  </tbody>\n",
       "</table>\n",
       "</div>"
      ],
      "text/plain": [
       "                                                   title  \\\n",
       "624    Comoediae 1: Acharenses/Equites/Nubes/Vespae/P...   \n",
       "786                    Willem de Kooning: Late Paintings   \n",
       "855    Literature Circle Guide: Bridge to Terabithia:...   \n",
       "1243   Middlesex Borough (Images of America: New Jersey)   \n",
       "4126   Zone of the Enders: The 2nd Runner Official St...   \n",
       "4790   The Diamond Color Meditation: Color Pathway to...   \n",
       "4935   Bulgakov's the Master and Margarita: The Text ...   \n",
       "5025   The Complete Theory Fun Factory: Music Theory ...   \n",
       "5476   The Goon Show  Volume 4: My Knees Have Fallen ...   \n",
       "5478   The Goon Show  Volume 11: He's Fallen in the W...   \n",
       "5649                                 Winchester Shotguns   \n",
       "5650   Colossians and Philemon: A Critical and Exeget...   \n",
       "6187                           Taxation of Mineral Rents   \n",
       "6250                         The New Big Book of America   \n",
       "6778   Delwau Duon: Peintiadau Nicholas Evans = Symph...   \n",
       "8547        Fanning the Flame: Bible  Cross  and Mission   \n",
       "9286   Oliver Wendell Holmes in Paris: Medicine  Theo...   \n",
       "9328                  Tyrannosaurus Wrecks (Stanley  #1)   \n",
       "9724       The Irish Anatomist: A Study of Flann O'Brien   \n",
       "9851   The American Campaign: U.S. Presidential Campa...   \n",
       "9897   His Princess Devotional: A Royal Encounter Wit...   \n",
       "10266         Bill Gates: Computer Legend (Famous Lives)   \n",
       "\n",
       "                                                 authors language_code  \\\n",
       "624                  Aristophanes/F.W. Hall/W.M. Geldart           grc   \n",
       "786                      Julie Sylvester/David Sylvester           eng   \n",
       "855                                       Tara MacCarthy           eng   \n",
       "1243                Middlesex Borough Heritage Committee           eng   \n",
       "4126                                          Tim Bogenn           eng   \n",
       "4790                                       John  Diamond           eng   \n",
       "4935                                     Elena N. Mahlow           eng   \n",
       "5025                     Ian        Martin/Katie Elliott           eng   \n",
       "5476                                          NOT A BOOK           eng   \n",
       "5478                                          NOT A BOOK           eng   \n",
       "5649                            Dennis Adler/R.L. Wilson           eng   \n",
       "5650                                      R. McL. Wilson           eng   \n",
       "6187                                        Ross Garnaut           eng   \n",
       "6250                                Todd Davis/Marc Frey           eng   \n",
       "6778                     Nicholas    Evans/Rhonda  Evans           wel   \n",
       "8547    Chris    Green/Chris Wright/Paul Douglas Gardner           eng   \n",
       "9286                                  William C. Dowling           eng   \n",
       "9328   Laura Driscoll/Alisa Klayman-Grodsky/Eric     ...           eng   \n",
       "9724                                       Keith Donohue           eng   \n",
       "9851                                   James E. Campbell           eng   \n",
       "9897                                 Sheri Rose Shepherd           eng   \n",
       "10266                                   Sara Barton-Wood           eng   \n",
       "\n",
       "                             publisher  \n",
       "624       Oxford University Press  USA  \n",
       "786                     Schirmer Mosel  \n",
       "855                 Teaching Resources  \n",
       "1243                Arcadia Publishing  \n",
       "4126                        BradyGames  \n",
       "4790             Square One Publishers  \n",
       "4935                     Vantage Press  \n",
       "5025               Boosey & Hawkes Inc  \n",
       "5476                BBC Physical Audio  \n",
       "5478                BBC Physical Audio  \n",
       "5649                   Chartwell Books  \n",
       "5650                   T&T Clark Int'l  \n",
       "6187      Oxford University Press  USA  \n",
       "6250                     Courage Books  \n",
       "6778                           Y Lolfa  \n",
       "8547                         Zondervan  \n",
       "9286   University Press of New England  \n",
       "9328                      Disney Press  \n",
       "9724                   Academica Press  \n",
       "9851        Texas A&M University Press  \n",
       "9897                         Multnomah  \n",
       "10266                         Raintree  "
      ]
     },
     "execution_count": 547,
     "metadata": {},
     "output_type": "execute_result"
    }
   ],
   "source": [
    "books_dataset[books_dataset['average_rating']==books_dataset.average_rating.max()][['title','authors','language_code','publisher']]"
   ]
  },
  {
   "cell_type": "code",
   "execution_count": 548,
   "metadata": {},
   "outputs": [
    {
     "data": {
      "image/png": "[encoded data removed]",
      "text/plain": [
       "<Figure size 2000x200 with 1 Axes>"
      ]
     },
     "metadata": {},
     "output_type": "display_data"
    }
   ],
   "source": [
    "publisher=books_dataset['publisher'].value_counts()[:20]\n",
    "plt.figure(figsize=(20,2))\n",
    "sns.barplot(x=publisher.index,y=publisher,color='yellow')\n",
    "plt.title(\"publishers\")\n",
    "plt.xlabel(\"no of occurence\")\n",
    "plt.ylabel(\"publishers\")\n",
    "plt.xticks(rotation=75,fontsize=10)\n",
    "plt.show()"
   ]
  },
  {
   "cell_type": "markdown",
   "metadata": {},
   "source": [
    "Book recommendation based on publisher,author and language"
   ]
  },
  {
   "cell_type": "code",
   "execution_count": 549,
   "metadata": {},
   "outputs": [
    {
     "data": {
      "text/plain": [
       "publisher\n",
       "Vintage               318\n",
       "Penguin Books         261\n",
       "Penguin Classics      184\n",
       "Mariner Books         150\n",
       "Ballantine Books      144\n",
       "                     ... \n",
       "Five Star (ME)          1\n",
       "Nimble Books            1\n",
       "Presses de La Cite      1\n",
       "Hub City Press          1\n",
       "Acento Editorial        1\n",
       "Name: count, Length: 2290, dtype: int64"
      ]
     },
     "execution_count": 549,
     "metadata": {},
     "output_type": "execute_result"
    }
   ],
   "source": [
    "books_dataset.publisher.value_counts()"
   ]
  },
  {
   "cell_type": "code",
   "execution_count": 550,
   "metadata": {},
   "outputs": [
    {
     "data": {
      "text/plain": [
       "Index(['title', 'authors', 'average_rating', 'language_code', 'num_pages',\n",
       "       'ratings_count', 'text_reviews_count', 'publication_date', 'publisher',\n",
       "       'year'],\n",
       "      dtype='object')"
      ]
     },
     "execution_count": 550,
     "metadata": {},
     "output_type": "execute_result"
    }
   ],
   "source": [
    "books_dataset.columns"
   ]
  },
  {
   "cell_type": "code",
   "execution_count": 551,
   "metadata": {},
   "outputs": [],
   "source": [
    "def recommend_book_publishers(x):\n",
    "    a=books_dataset[books_dataset['publisher']==x][['title','average_rating']]\n",
    "    a=a.sort_values(by='average_rating',ascending=False)\n",
    "    return a.head(10)"
   ]
  },
  {
   "cell_type": "code",
   "execution_count": 552,
   "metadata": {},
   "outputs": [
    {
     "data": {
      "text/html": [
       "<div>\n",
       "<style scoped>\n",
       "    .dataframe tbody tr th:only-of-type {\n",
       "        vertical-align: middle;\n",
       "    }\n",
       "\n",
       "    .dataframe tbody tr th {\n",
       "        vertical-align: top;\n",
       "    }\n",
       "\n",
       "    .dataframe thead th {\n",
       "        text-align: right;\n",
       "    }\n",
       "</style>\n",
       "<table border=\"1\" class=\"dataframe\">\n",
       "  <thead>\n",
       "    <tr style=\"text-align: right;\">\n",
       "      <th></th>\n",
       "      <th>title</th>\n",
       "      <th>average_rating</th>\n",
       "    </tr>\n",
       "  </thead>\n",
       "  <tbody>\n",
       "    <tr>\n",
       "      <th>7374</th>\n",
       "      <td>Remembrance of Things Past: Volume II - The Gu...</td>\n",
       "      <td>4.53</td>\n",
       "    </tr>\n",
       "    <tr>\n",
       "      <th>335</th>\n",
       "      <td>The Power Broker: Robert Moses and the Fall of...</td>\n",
       "      <td>4.51</td>\n",
       "    </tr>\n",
       "    <tr>\n",
       "      <th>10842</th>\n",
       "      <td>The Civil War  Vol. 1: Fort Sumter to Perryville</td>\n",
       "      <td>4.42</td>\n",
       "    </tr>\n",
       "    <tr>\n",
       "      <th>1775</th>\n",
       "      <td>The Son Avenger (The Master of Hestviken  #4)</td>\n",
       "      <td>4.40</td>\n",
       "    </tr>\n",
       "    <tr>\n",
       "      <th>1505</th>\n",
       "      <td>A Fine Balance</td>\n",
       "      <td>4.36</td>\n",
       "    </tr>\n",
       "    <tr>\n",
       "      <th>9630</th>\n",
       "      <td>Nobody Knows My Name</td>\n",
       "      <td>4.35</td>\n",
       "    </tr>\n",
       "    <tr>\n",
       "      <th>3112</th>\n",
       "      <td>All of Us: The Collected Poems</td>\n",
       "      <td>4.30</td>\n",
       "    </tr>\n",
       "    <tr>\n",
       "      <th>2267</th>\n",
       "      <td>The Stories of Vladimir Nabokov</td>\n",
       "      <td>4.30</td>\n",
       "    </tr>\n",
       "    <tr>\n",
       "      <th>8790</th>\n",
       "      <td>Selected Stories</td>\n",
       "      <td>4.28</td>\n",
       "    </tr>\n",
       "    <tr>\n",
       "      <th>4020</th>\n",
       "      <td>Selected Stories</td>\n",
       "      <td>4.28</td>\n",
       "    </tr>\n",
       "  </tbody>\n",
       "</table>\n",
       "</div>"
      ],
      "text/plain": [
       "                                                   title  average_rating\n",
       "7374   Remembrance of Things Past: Volume II - The Gu...            4.53\n",
       "335    The Power Broker: Robert Moses and the Fall of...            4.51\n",
       "10842   The Civil War  Vol. 1: Fort Sumter to Perryville            4.42\n",
       "1775       The Son Avenger (The Master of Hestviken  #4)            4.40\n",
       "1505                                      A Fine Balance            4.36\n",
       "9630                                Nobody Knows My Name            4.35\n",
       "3112                      All of Us: The Collected Poems            4.30\n",
       "2267                     The Stories of Vladimir Nabokov            4.30\n",
       "8790                                    Selected Stories            4.28\n",
       "4020                                    Selected Stories            4.28"
      ]
     },
     "execution_count": 552,
     "metadata": {},
     "output_type": "execute_result"
    }
   ],
   "source": [
    "recommend_book_publishers('Vintage')"
   ]
  },
  {
   "cell_type": "code",
   "execution_count": 553,
   "metadata": {},
   "outputs": [],
   "source": [
    "# required_columns = ['title', 'average_rating']\n",
    "# if all(column in books_dataset.columns for column in required_columns):\n",
    "#     # Proceed with your function\n",
    "#     code = recommend_book_publishers('Vintage')\n",
    "# else:\n",
    "#     print(\"One or more required columns are missing.\")\n"
   ]
  },
  {
   "cell_type": "code",
   "execution_count": 554,
   "metadata": {},
   "outputs": [
    {
     "data": {
      "text/html": [
       "<div>\n",
       "<style scoped>\n",
       "    .dataframe tbody tr th:only-of-type {\n",
       "        vertical-align: middle;\n",
       "    }\n",
       "\n",
       "    .dataframe tbody tr th {\n",
       "        vertical-align: top;\n",
       "    }\n",
       "\n",
       "    .dataframe thead th {\n",
       "        text-align: right;\n",
       "    }\n",
       "</style>\n",
       "<table border=\"1\" class=\"dataframe\">\n",
       "  <thead>\n",
       "    <tr style=\"text-align: right;\">\n",
       "      <th></th>\n",
       "      <th>title</th>\n",
       "      <th>average_rating</th>\n",
       "    </tr>\n",
       "  </thead>\n",
       "  <tbody>\n",
       "    <tr>\n",
       "      <th>4245</th>\n",
       "      <td>The Complete Maus</td>\n",
       "      <td>4.55</td>\n",
       "    </tr>\n",
       "    <tr>\n",
       "      <th>5566</th>\n",
       "      <td>The Penguin Companion to European Literature</td>\n",
       "      <td>4.50</td>\n",
       "    </tr>\n",
       "    <tr>\n",
       "      <th>1381</th>\n",
       "      <td>Before The Mayflower A History of Black America</td>\n",
       "      <td>4.44</td>\n",
       "    </tr>\n",
       "    <tr>\n",
       "      <th>4603</th>\n",
       "      <td>Selected Non-Fictions</td>\n",
       "      <td>4.43</td>\n",
       "    </tr>\n",
       "    <tr>\n",
       "      <th>3011</th>\n",
       "      <td>The Read-Aloud Handbook</td>\n",
       "      <td>4.41</td>\n",
       "    </tr>\n",
       "    <tr>\n",
       "      <th>4552</th>\n",
       "      <td>Life With Jeeves (Jeeves  #6  2  &amp; 4)</td>\n",
       "      <td>4.39</td>\n",
       "    </tr>\n",
       "    <tr>\n",
       "      <th>1275</th>\n",
       "      <td>East of Eden</td>\n",
       "      <td>4.37</td>\n",
       "    </tr>\n",
       "    <tr>\n",
       "      <th>3304</th>\n",
       "      <td>Ludwig Wittgenstein: The Duty of Genius</td>\n",
       "      <td>4.36</td>\n",
       "    </tr>\n",
       "    <tr>\n",
       "      <th>4982</th>\n",
       "      <td>Life at Blandings</td>\n",
       "      <td>4.35</td>\n",
       "    </tr>\n",
       "    <tr>\n",
       "      <th>7707</th>\n",
       "      <td>Postwar: A History of Europe Since 1945</td>\n",
       "      <td>4.34</td>\n",
       "    </tr>\n",
       "  </tbody>\n",
       "</table>\n",
       "</div>"
      ],
      "text/plain": [
       "                                                title  average_rating\n",
       "4245                                The Complete Maus            4.55\n",
       "5566     The Penguin Companion to European Literature            4.50\n",
       "1381  Before The Mayflower A History of Black America            4.44\n",
       "4603                            Selected Non-Fictions            4.43\n",
       "3011                          The Read-Aloud Handbook            4.41\n",
       "4552            Life With Jeeves (Jeeves  #6  2  & 4)            4.39\n",
       "1275                                     East of Eden            4.37\n",
       "3304          Ludwig Wittgenstein: The Duty of Genius            4.36\n",
       "4982                                Life at Blandings            4.35\n",
       "7707          Postwar: A History of Europe Since 1945            4.34"
      ]
     },
     "execution_count": 554,
     "metadata": {},
     "output_type": "execute_result"
    }
   ],
   "source": [
    "recommend_book_publishers('Penguin Books')"
   ]
  },
  {
   "cell_type": "code",
   "execution_count": 555,
   "metadata": {},
   "outputs": [
    {
     "data": {
      "application/vnd.jupyter.widget-view+json": {
       "model_id": "f4f3a5b6f6ce47bd8c3626cad87fbbb6",
       "version_major": 2,
       "version_minor": 0
      },
      "text/plain": [
       "interactive(children=(Dropdown(description='publisher_name', options=('Vintage', 'Penguin Books', 'Penguin Cla…"
      ]
     },
     "metadata": {},
     "output_type": "display_data"
    }
   ],
   "source": [
    "@interact\n",
    "def recomd_books_publishers(publisher_name = list(books_dataset['publisher'].value_counts().index)):\n",
    "    a = books_dataset[books_dataset['publisher'] == publisher_name][['title', 'average_rating']]\n",
    "    a = a.sort_values(by = 'average_rating', ascending = False)\n",
    "    return a.head(10)"
   ]
  },
  {
   "cell_type": "code",
   "execution_count": 556,
   "metadata": {},
   "outputs": [
    {
     "data": {
      "text/plain": [
       "Index(['title', 'authors', 'average_rating', 'language_code', 'num_pages',\n",
       "       'ratings_count', 'text_reviews_count', 'publication_date', 'publisher',\n",
       "       'year'],\n",
       "      dtype='object')"
      ]
     },
     "execution_count": 556,
     "metadata": {},
     "output_type": "execute_result"
    }
   ],
   "source": [
    "books_dataset.columns"
   ]
  },
  {
   "cell_type": "markdown",
   "metadata": {},
   "source": [
    "based on authors"
   ]
  },
  {
   "cell_type": "code",
   "execution_count": 557,
   "metadata": {},
   "outputs": [
    {
     "data": {
      "application/vnd.jupyter.widget-view+json": {
       "model_id": "9859212a35df4ed58a279fdba35b64d0",
       "version_major": 2,
       "version_minor": 0
      },
      "text/plain": [
       "interactive(children=(Dropdown(description='authors_name', options=('P.G. Wodehouse', 'Stephen King', 'Rumiko …"
      ]
     },
     "metadata": {},
     "output_type": "display_data"
    }
   ],
   "source": [
    "@interact\n",
    "def recomd_books_authors(authors_name = list(books_dataset['authors'].value_counts().index)):\n",
    "    a = books_dataset[books_dataset['authors'] == authors_name][['title', 'average_rating']]\n",
    "    a = a.sort_values(by = 'average_rating', ascending = False)\n",
    "    return a.head(10)"
   ]
  },
  {
   "cell_type": "code",
   "execution_count": 558,
   "metadata": {},
   "outputs": [
    {
     "data": {
      "text/plain": [
       "Index(['title', 'authors', 'average_rating', 'language_code', 'num_pages',\n",
       "       'ratings_count', 'text_reviews_count', 'publication_date', 'publisher',\n",
       "       'year'],\n",
       "      dtype='object')"
      ]
     },
     "execution_count": 558,
     "metadata": {},
     "output_type": "execute_result"
    }
   ],
   "source": [
    " books_dataset.columns"
   ]
  },
  {
   "cell_type": "code",
   "execution_count": 559,
   "metadata": {},
   "outputs": [
    {
     "data": {
      "application/vnd.jupyter.widget-view+json": {
       "model_id": "cd4c259094e243c483864144ad23090b",
       "version_major": 2,
       "version_minor": 0
      },
      "text/plain": [
       "interactive(children=(Dropdown(description='language', options=('eng', 'en-US', 'spa', 'en-GB', 'fre', 'ger', …"
      ]
     },
     "metadata": {},
     "output_type": "display_data"
    }
   ],
   "source": [
    "@interact\n",
    "def recomd_books_lang(language = list(books_dataset['language_code'].value_counts().index)):\n",
    "    a = books_dataset[books_dataset['language_code'] == language][['title', 'average_rating']]\n",
    "    a = a.sort_values(by = 'average_rating', ascending = False)\n",
    "    return a.head(10)"
   ]
  },
  {
   "cell_type": "markdown",
   "metadata": {},
   "source": [
    "Data Preprocessing"
   ]
  },
  {
   "cell_type": "code",
   "execution_count": 560,
   "metadata": {},
   "outputs": [
    {
     "data": {
      "text/html": [
       "<div>\n",
       "<style scoped>\n",
       "    .dataframe tbody tr th:only-of-type {\n",
       "        vertical-align: middle;\n",
       "    }\n",
       "\n",
       "    .dataframe tbody tr th {\n",
       "        vertical-align: top;\n",
       "    }\n",
       "\n",
       "    .dataframe thead th {\n",
       "        text-align: right;\n",
       "    }\n",
       "</style>\n",
       "<table border=\"1\" class=\"dataframe\">\n",
       "  <thead>\n",
       "    <tr style=\"text-align: right;\">\n",
       "      <th></th>\n",
       "      <th>title</th>\n",
       "      <th>authors</th>\n",
       "      <th>average_rating</th>\n",
       "      <th>language_code</th>\n",
       "      <th>num_pages</th>\n",
       "      <th>ratings_count</th>\n",
       "      <th>text_reviews_count</th>\n",
       "      <th>publication_date</th>\n",
       "      <th>publisher</th>\n",
       "      <th>year</th>\n",
       "    </tr>\n",
       "  </thead>\n",
       "  <tbody>\n",
       "    <tr>\n",
       "      <th>0</th>\n",
       "      <td>Harry Potter and the Half-Blood Prince (Harry ...</td>\n",
       "      <td>J.K. Rowling/Mary GrandPré</td>\n",
       "      <td>4.57</td>\n",
       "      <td>eng</td>\n",
       "      <td>652</td>\n",
       "      <td>2095690</td>\n",
       "      <td>27591</td>\n",
       "      <td>9/16/2006</td>\n",
       "      <td>Scholastic Inc.</td>\n",
       "      <td>2006</td>\n",
       "    </tr>\n",
       "  </tbody>\n",
       "</table>\n",
       "</div>"
      ],
      "text/plain": [
       "                                               title  \\\n",
       "0  Harry Potter and the Half-Blood Prince (Harry ...   \n",
       "\n",
       "                      authors  average_rating language_code  num_pages  \\\n",
       "0  J.K. Rowling/Mary GrandPré            4.57           eng        652   \n",
       "\n",
       "   ratings_count  text_reviews_count publication_date        publisher  year  \n",
       "0        2095690               27591        9/16/2006  Scholastic Inc.  2006  "
      ]
     },
     "execution_count": 560,
     "metadata": {},
     "output_type": "execute_result"
    }
   ],
   "source": [
    "books_dataset.head(1)"
   ]
  },
  {
   "cell_type": "code",
   "execution_count": 561,
   "metadata": {},
   "outputs": [],
   "source": [
    "def num_to_obj(x):\n",
    "    if x >0 and x <=1:\n",
    "        return \"between 0 and 1\"\n",
    "    if x > 1 and x <= 2:\n",
    "        return \"between 1 and 2\"\n",
    "    if x > 2 and x <=3:\n",
    "        return \"between 2 and 3\"\n",
    "    if x >3 and x<=4:\n",
    "        return \"between 3 and 4\"\n",
    "    if x >4 and x<=5:\n",
    "        return \"between 4 and 5\"\n",
    "books_dataset['rating_obj'] = books_dataset['average_rating'].apply(num_to_obj)"
   ]
  },
  {
   "cell_type": "code",
   "execution_count": 562,
   "metadata": {},
   "outputs": [
    {
     "data": {
      "text/plain": [
       "rating_obj\n",
       "between 3 and 4    6286\n",
       "between 4 and 5    4735\n",
       "between 2 and 3      69\n",
       "between 1 and 2       7\n",
       "between 0 and 1       2\n",
       "Name: count, dtype: int64"
      ]
     },
     "execution_count": 562,
     "metadata": {},
     "output_type": "execute_result"
    }
   ],
   "source": [
    "books_dataset['rating_obj'].value_counts()"
   ]
  },
  {
   "cell_type": "markdown",
   "metadata": {},
   "source": [
    "encoding using dummies"
   ]
  },
  {
   "cell_type": "code",
   "execution_count": 563,
   "metadata": {},
   "outputs": [
    {
     "data": {
      "text/html": [
       "<div>\n",
       "<style scoped>\n",
       "    .dataframe tbody tr th:only-of-type {\n",
       "        vertical-align: middle;\n",
       "    }\n",
       "\n",
       "    .dataframe tbody tr th {\n",
       "        vertical-align: top;\n",
       "    }\n",
       "\n",
       "    .dataframe thead th {\n",
       "        text-align: right;\n",
       "    }\n",
       "</style>\n",
       "<table border=\"1\" class=\"dataframe\">\n",
       "  <thead>\n",
       "    <tr style=\"text-align: right;\">\n",
       "      <th></th>\n",
       "      <th>between 0 and 1</th>\n",
       "      <th>between 1 and 2</th>\n",
       "      <th>between 2 and 3</th>\n",
       "      <th>between 3 and 4</th>\n",
       "      <th>between 4 and 5</th>\n",
       "    </tr>\n",
       "  </thead>\n",
       "  <tbody>\n",
       "    <tr>\n",
       "      <th>0</th>\n",
       "      <td>False</td>\n",
       "      <td>False</td>\n",
       "      <td>False</td>\n",
       "      <td>False</td>\n",
       "      <td>True</td>\n",
       "    </tr>\n",
       "    <tr>\n",
       "      <th>1</th>\n",
       "      <td>False</td>\n",
       "      <td>False</td>\n",
       "      <td>False</td>\n",
       "      <td>False</td>\n",
       "      <td>True</td>\n",
       "    </tr>\n",
       "    <tr>\n",
       "      <th>2</th>\n",
       "      <td>False</td>\n",
       "      <td>False</td>\n",
       "      <td>False</td>\n",
       "      <td>False</td>\n",
       "      <td>True</td>\n",
       "    </tr>\n",
       "    <tr>\n",
       "      <th>3</th>\n",
       "      <td>False</td>\n",
       "      <td>False</td>\n",
       "      <td>False</td>\n",
       "      <td>False</td>\n",
       "      <td>True</td>\n",
       "    </tr>\n",
       "    <tr>\n",
       "      <th>4</th>\n",
       "      <td>False</td>\n",
       "      <td>False</td>\n",
       "      <td>False</td>\n",
       "      <td>False</td>\n",
       "      <td>True</td>\n",
       "    </tr>\n",
       "  </tbody>\n",
       "</table>\n",
       "</div>"
      ],
      "text/plain": [
       "   between 0 and 1  between 1 and 2  between 2 and 3  between 3 and 4  \\\n",
       "0            False            False            False            False   \n",
       "1            False            False            False            False   \n",
       "2            False            False            False            False   \n",
       "3            False            False            False            False   \n",
       "4            False            False            False            False   \n",
       "\n",
       "   between 4 and 5  \n",
       "0             True  \n",
       "1             True  \n",
       "2             True  \n",
       "3             True  \n",
       "4             True  "
      ]
     },
     "execution_count": 563,
     "metadata": {},
     "output_type": "execute_result"
    }
   ],
   "source": [
    "rating_books_dataset = pd.get_dummies(books_dataset['rating_obj'])\n",
    "rating_books_dataset.head()"
   ]
  },
  {
   "cell_type": "code",
   "execution_count": 569,
   "metadata": {},
   "outputs": [
    {
     "data": {
      "text/plain": [
       "Index(['title', 'authors', 'average_rating', 'language_code', 'num_pages',\n",
       "       'ratings_count', 'text_reviews_count', 'publication_date', 'publisher',\n",
       "       'year', 'rating_obj'],\n",
       "      dtype='object')"
      ]
     },
     "execution_count": 569,
     "metadata": {},
     "output_type": "execute_result"
    }
   ],
   "source": [
    "books_dataset.columns"
   ]
  },
  {
   "cell_type": "code",
   "execution_count": 565,
   "metadata": {},
   "outputs": [
    {
     "data": {
      "text/html": [
       "<div>\n",
       "<style scoped>\n",
       "    .dataframe tbody tr th:only-of-type {\n",
       "        vertical-align: middle;\n",
       "    }\n",
       "\n",
       "    .dataframe tbody tr th {\n",
       "        vertical-align: top;\n",
       "    }\n",
       "\n",
       "    .dataframe thead th {\n",
       "        text-align: right;\n",
       "    }\n",
       "</style>\n",
       "<table border=\"1\" class=\"dataframe\">\n",
       "  <thead>\n",
       "    <tr style=\"text-align: right;\">\n",
       "      <th></th>\n",
       "      <th>ale</th>\n",
       "      <th>ara</th>\n",
       "      <th>en-CA</th>\n",
       "      <th>en-GB</th>\n",
       "      <th>en-US</th>\n",
       "      <th>eng</th>\n",
       "      <th>enm</th>\n",
       "      <th>fre</th>\n",
       "      <th>ger</th>\n",
       "      <th>gla</th>\n",
       "      <th>...</th>\n",
       "      <th>nl</th>\n",
       "      <th>nor</th>\n",
       "      <th>por</th>\n",
       "      <th>rus</th>\n",
       "      <th>spa</th>\n",
       "      <th>srp</th>\n",
       "      <th>swe</th>\n",
       "      <th>tur</th>\n",
       "      <th>wel</th>\n",
       "      <th>zho</th>\n",
       "    </tr>\n",
       "  </thead>\n",
       "  <tbody>\n",
       "    <tr>\n",
       "      <th>0</th>\n",
       "      <td>False</td>\n",
       "      <td>False</td>\n",
       "      <td>False</td>\n",
       "      <td>False</td>\n",
       "      <td>False</td>\n",
       "      <td>True</td>\n",
       "      <td>False</td>\n",
       "      <td>False</td>\n",
       "      <td>False</td>\n",
       "      <td>False</td>\n",
       "      <td>...</td>\n",
       "      <td>False</td>\n",
       "      <td>False</td>\n",
       "      <td>False</td>\n",
       "      <td>False</td>\n",
       "      <td>False</td>\n",
       "      <td>False</td>\n",
       "      <td>False</td>\n",
       "      <td>False</td>\n",
       "      <td>False</td>\n",
       "      <td>False</td>\n",
       "    </tr>\n",
       "    <tr>\n",
       "      <th>1</th>\n",
       "      <td>False</td>\n",
       "      <td>False</td>\n",
       "      <td>False</td>\n",
       "      <td>False</td>\n",
       "      <td>False</td>\n",
       "      <td>True</td>\n",
       "      <td>False</td>\n",
       "      <td>False</td>\n",
       "      <td>False</td>\n",
       "      <td>False</td>\n",
       "      <td>...</td>\n",
       "      <td>False</td>\n",
       "      <td>False</td>\n",
       "      <td>False</td>\n",
       "      <td>False</td>\n",
       "      <td>False</td>\n",
       "      <td>False</td>\n",
       "      <td>False</td>\n",
       "      <td>False</td>\n",
       "      <td>False</td>\n",
       "      <td>False</td>\n",
       "    </tr>\n",
       "    <tr>\n",
       "      <th>2</th>\n",
       "      <td>False</td>\n",
       "      <td>False</td>\n",
       "      <td>False</td>\n",
       "      <td>False</td>\n",
       "      <td>False</td>\n",
       "      <td>True</td>\n",
       "      <td>False</td>\n",
       "      <td>False</td>\n",
       "      <td>False</td>\n",
       "      <td>False</td>\n",
       "      <td>...</td>\n",
       "      <td>False</td>\n",
       "      <td>False</td>\n",
       "      <td>False</td>\n",
       "      <td>False</td>\n",
       "      <td>False</td>\n",
       "      <td>False</td>\n",
       "      <td>False</td>\n",
       "      <td>False</td>\n",
       "      <td>False</td>\n",
       "      <td>False</td>\n",
       "    </tr>\n",
       "    <tr>\n",
       "      <th>3</th>\n",
       "      <td>False</td>\n",
       "      <td>False</td>\n",
       "      <td>False</td>\n",
       "      <td>False</td>\n",
       "      <td>False</td>\n",
       "      <td>True</td>\n",
       "      <td>False</td>\n",
       "      <td>False</td>\n",
       "      <td>False</td>\n",
       "      <td>False</td>\n",
       "      <td>...</td>\n",
       "      <td>False</td>\n",
       "      <td>False</td>\n",
       "      <td>False</td>\n",
       "      <td>False</td>\n",
       "      <td>False</td>\n",
       "      <td>False</td>\n",
       "      <td>False</td>\n",
       "      <td>False</td>\n",
       "      <td>False</td>\n",
       "      <td>False</td>\n",
       "    </tr>\n",
       "    <tr>\n",
       "      <th>4</th>\n",
       "      <td>False</td>\n",
       "      <td>False</td>\n",
       "      <td>False</td>\n",
       "      <td>False</td>\n",
       "      <td>False</td>\n",
       "      <td>True</td>\n",
       "      <td>False</td>\n",
       "      <td>False</td>\n",
       "      <td>False</td>\n",
       "      <td>False</td>\n",
       "      <td>...</td>\n",
       "      <td>False</td>\n",
       "      <td>False</td>\n",
       "      <td>False</td>\n",
       "      <td>False</td>\n",
       "      <td>False</td>\n",
       "      <td>False</td>\n",
       "      <td>False</td>\n",
       "      <td>False</td>\n",
       "      <td>False</td>\n",
       "      <td>False</td>\n",
       "    </tr>\n",
       "  </tbody>\n",
       "</table>\n",
       "<p>5 rows × 27 columns</p>\n",
       "</div>"
      ],
      "text/plain": [
       "     ale    ara  en-CA  en-GB  en-US   eng    enm    fre    ger    gla  ...  \\\n",
       "0  False  False  False  False  False  True  False  False  False  False  ...   \n",
       "1  False  False  False  False  False  True  False  False  False  False  ...   \n",
       "2  False  False  False  False  False  True  False  False  False  False  ...   \n",
       "3  False  False  False  False  False  True  False  False  False  False  ...   \n",
       "4  False  False  False  False  False  True  False  False  False  False  ...   \n",
       "\n",
       "      nl    nor    por    rus    spa    srp    swe    tur    wel    zho  \n",
       "0  False  False  False  False  False  False  False  False  False  False  \n",
       "1  False  False  False  False  False  False  False  False  False  False  \n",
       "2  False  False  False  False  False  False  False  False  False  False  \n",
       "3  False  False  False  False  False  False  False  False  False  False  \n",
       "4  False  False  False  False  False  False  False  False  False  False  \n",
       "\n",
       "[5 rows x 27 columns]"
      ]
     },
     "execution_count": 565,
     "metadata": {},
     "output_type": "execute_result"
    }
   ],
   "source": [
    "language_books_dataset = pd.get_dummies(books_dataset['language_code'])\n",
    "language_books_dataset.head()"
   ]
  },
  {
   "cell_type": "code",
   "execution_count": 573,
   "metadata": {},
   "outputs": [
    {
     "data": {
      "text/html": [
       "<div>\n",
       "<style scoped>\n",
       "    .dataframe tbody tr th:only-of-type {\n",
       "        vertical-align: middle;\n",
       "    }\n",
       "\n",
       "    .dataframe tbody tr th {\n",
       "        vertical-align: top;\n",
       "    }\n",
       "\n",
       "    .dataframe thead th {\n",
       "        text-align: right;\n",
       "    }\n",
       "</style>\n",
       "<table border=\"1\" class=\"dataframe\">\n",
       "  <thead>\n",
       "    <tr style=\"text-align: right;\">\n",
       "      <th></th>\n",
       "      <th>between 0 and 1</th>\n",
       "      <th>between 1 and 2</th>\n",
       "      <th>between 2 and 3</th>\n",
       "      <th>between 3 and 4</th>\n",
       "      <th>between 4 and 5</th>\n",
       "      <th>ale</th>\n",
       "      <th>ara</th>\n",
       "      <th>en-CA</th>\n",
       "      <th>en-GB</th>\n",
       "      <th>en-US</th>\n",
       "      <th>...</th>\n",
       "      <th>por</th>\n",
       "      <th>rus</th>\n",
       "      <th>spa</th>\n",
       "      <th>srp</th>\n",
       "      <th>swe</th>\n",
       "      <th>tur</th>\n",
       "      <th>wel</th>\n",
       "      <th>zho</th>\n",
       "      <th>average_rating</th>\n",
       "      <th>ratings_count</th>\n",
       "    </tr>\n",
       "    <tr>\n",
       "      <th>title</th>\n",
       "      <th></th>\n",
       "      <th></th>\n",
       "      <th></th>\n",
       "      <th></th>\n",
       "      <th></th>\n",
       "      <th></th>\n",
       "      <th></th>\n",
       "      <th></th>\n",
       "      <th></th>\n",
       "      <th></th>\n",
       "      <th></th>\n",
       "      <th></th>\n",
       "      <th></th>\n",
       "      <th></th>\n",
       "      <th></th>\n",
       "      <th></th>\n",
       "      <th></th>\n",
       "      <th></th>\n",
       "      <th></th>\n",
       "      <th></th>\n",
       "      <th></th>\n",
       "    </tr>\n",
       "  </thead>\n",
       "  <tbody>\n",
       "    <tr>\n",
       "      <th>Harry Potter and the Half-Blood Prince (Harry Potter  #6)</th>\n",
       "      <td>False</td>\n",
       "      <td>False</td>\n",
       "      <td>False</td>\n",
       "      <td>False</td>\n",
       "      <td>True</td>\n",
       "      <td>False</td>\n",
       "      <td>False</td>\n",
       "      <td>False</td>\n",
       "      <td>False</td>\n",
       "      <td>False</td>\n",
       "      <td>...</td>\n",
       "      <td>False</td>\n",
       "      <td>False</td>\n",
       "      <td>False</td>\n",
       "      <td>False</td>\n",
       "      <td>False</td>\n",
       "      <td>False</td>\n",
       "      <td>False</td>\n",
       "      <td>False</td>\n",
       "      <td>4.57</td>\n",
       "      <td>2095690</td>\n",
       "    </tr>\n",
       "  </tbody>\n",
       "</table>\n",
       "<p>1 rows × 34 columns</p>\n",
       "</div>"
      ],
      "text/plain": [
       "                                                    between 0 and 1  \\\n",
       "title                                                                 \n",
       "Harry Potter and the Half-Blood Prince (Harry P...            False   \n",
       "\n",
       "                                                    between 1 and 2  \\\n",
       "title                                                                 \n",
       "Harry Potter and the Half-Blood Prince (Harry P...            False   \n",
       "\n",
       "                                                    between 2 and 3  \\\n",
       "title                                                                 \n",
       "Harry Potter and the Half-Blood Prince (Harry P...            False   \n",
       "\n",
       "                                                    between 3 and 4  \\\n",
       "title                                                                 \n",
       "Harry Potter and the Half-Blood Prince (Harry P...            False   \n",
       "\n",
       "                                                    between 4 and 5    ale  \\\n",
       "title                                                                        \n",
       "Harry Potter and the Half-Blood Prince (Harry P...             True  False   \n",
       "\n",
       "                                                      ara  en-CA  en-GB  \\\n",
       "title                                                                     \n",
       "Harry Potter and the Half-Blood Prince (Harry P...  False  False  False   \n",
       "\n",
       "                                                    en-US  ...    por    rus  \\\n",
       "title                                                      ...                 \n",
       "Harry Potter and the Half-Blood Prince (Harry P...  False  ...  False  False   \n",
       "\n",
       "                                                      spa    srp    swe  \\\n",
       "title                                                                     \n",
       "Harry Potter and the Half-Blood Prince (Harry P...  False  False  False   \n",
       "\n",
       "                                                      tur    wel    zho  \\\n",
       "title                                                                     \n",
       "Harry Potter and the Half-Blood Prince (Harry P...  False  False  False   \n",
       "\n",
       "                                                    average_rating  \\\n",
       "title                                                                \n",
       "Harry Potter and the Half-Blood Prince (Harry P...            4.57   \n",
       "\n",
       "                                                    ratings_count  \n",
       "title                                                              \n",
       "Harry Potter and the Half-Blood Prince (Harry P...        2095690  \n",
       "\n",
       "[1 rows x 34 columns]"
      ]
     },
     "execution_count": 573,
     "metadata": {},
     "output_type": "execute_result"
    }
   ],
   "source": [
    "features = pd.concat([rating_books_dataset,language_books_dataset, books_dataset['average_rating'],\n",
    "                    books_dataset['ratings_count'], books_dataset['title']], axis = 1)\n",
    "features.set_index('title', inplace= True)\n",
    "features.head(1)"
   ]
  },
  {
   "cell_type": "markdown",
   "metadata": {},
   "source": [
    "bring data in the format of 0 and 1"
   ]
  },
  {
   "cell_type": "code",
   "execution_count": 574,
   "metadata": {},
   "outputs": [],
   "source": [
    "from sklearn.preprocessing import MinMaxScaler "
   ]
  },
  {
   "cell_type": "code",
   "execution_count": 575,
   "metadata": {},
   "outputs": [],
   "source": [
    "scaler = MinMaxScaler()\n",
    "features_scaled = scaler.fit_transform(features)"
   ]
  },
  {
   "cell_type": "code",
   "execution_count": 576,
   "metadata": {},
   "outputs": [
    {
     "data": {
      "text/plain": [
       "array([[0.00000000e+00, 0.00000000e+00, 0.00000000e+00, ...,\n",
       "        0.00000000e+00, 9.14000000e-01, 4.55816060e-01],\n",
       "       [0.00000000e+00, 0.00000000e+00, 0.00000000e+00, ...,\n",
       "        0.00000000e+00, 8.98000000e-01, 4.68317403e-01],\n",
       "       [0.00000000e+00, 0.00000000e+00, 0.00000000e+00, ...,\n",
       "        0.00000000e+00, 8.84000000e-01, 1.37743803e-03],\n",
       "       ...,\n",
       "       [0.00000000e+00, 0.00000000e+00, 0.00000000e+00, ...,\n",
       "        0.00000000e+00, 7.92000000e-01, 1.78351363e-04],\n",
       "       [0.00000000e+00, 0.00000000e+00, 0.00000000e+00, ...,\n",
       "        0.00000000e+00, 7.44000000e-01, 1.67258779e-04],\n",
       "       [0.00000000e+00, 0.00000000e+00, 0.00000000e+00, ...,\n",
       "        0.00000000e+00, 7.82000000e-01, 2.45776879e-05]])"
      ]
     },
     "execution_count": 576,
     "metadata": {},
     "output_type": "execute_result"
    }
   ],
   "source": [
    "features_scaled"
   ]
  },
  {
   "cell_type": "markdown",
   "metadata": {},
   "source": [
    "model building"
   ]
  },
  {
   "cell_type": "code",
   "execution_count": 577,
   "metadata": {},
   "outputs": [],
   "source": [
    "from sklearn import neighbors"
   ]
  },
  {
   "cell_type": "code",
   "execution_count": 583,
   "metadata": {},
   "outputs": [],
   "source": [
    "model = neighbors.NearestNeighbors(n_neighbors=5, algorithm = 'ball_tree', metric= 'euclidean')\n",
    "model.fit(features_scaled)\n",
    "dist, idlist = model.kneighbors(features_scaled)"
   ]
  },
  {
   "cell_type": "code",
   "execution_count": 584,
   "metadata": {},
   "outputs": [
    {
     "data": {
      "text/plain": [
       "title\n",
       "The Brothers Karamazov                9\n",
       "The Iliad                             9\n",
       "Anna Karenina                         8\n",
       "The Odyssey                           8\n",
       "'Salem's Lot                          8\n",
       "                                     ..\n",
       "Fantastic Mr Fox                      1\n",
       "Fantastic Mr. Fox (Cover to Cover)    1\n",
       "Ajax in Action                        1\n",
       "Historia del rey transparente         1\n",
       "Death Match                           1\n",
       "Name: count, Length: 10349, dtype: int64"
      ]
     },
     "execution_count": 584,
     "metadata": {},
     "output_type": "execute_result"
    }
   ],
   "source": [
    "books_dataset['title'].value_counts()"
   ]
  },
  {
   "cell_type": "code",
   "execution_count": 589,
   "metadata": {},
   "outputs": [],
   "source": [
    "# @interact\n",
    "# def BookRecommended(book_name = list(books_dataset['title'].value_counts().index)):\n",
    "#     book_list_name = []\n",
    "#     book_id = books_dataset[books_dataset['title'] == book_name.index]\n",
    "#     book_id = book_id[0]\n",
    "#     for newid in idlist[book_id]:\n",
    "#         book_list_name.append(books_dataset.iloc[newid].title)\n",
    "#     return book_list_name"
   ]
  },
  {
   "cell_type": "markdown",
   "metadata": {},
   "source": [
    "recommendation"
   ]
  },
  {
   "cell_type": "code",
   "execution_count": null,
   "metadata": {},
   "outputs": [
    {
     "data": {
      "application/vnd.jupyter.widget-view+json": {
       "model_id": "a54e24278fbd4a13927b251361c8b0d5",
       "version_major": 2,
       "version_minor": 0
      },
      "text/plain": [
       "interactive(children=(Dropdown(description='book_name', options=('Harry Potter and the Half-Blood Prince (Harr…"
      ]
     },
     "metadata": {},
     "output_type": "display_data"
    }
   ],
   "source": [
    "from ipywidgets import interact\n",
    "\n",
    "@interact \n",
    "def BookRecommended(book_name=list(books_dataset['title'].unique())):\n",
    "    book_list_name = []\n",
    "    \n",
    "    # Find the index of the selected book in books_dataset\n",
    "    book_id_series = books_dataset[books_dataset['title'] == book_name].index\n",
    "    \n",
    "    if len(book_id_series) == 0:\n",
    "        return f\"No book found with the title '{book_name}'\"\n",
    "    \n",
    "    # Get the first index that matches the selected book\n",
    "    book_id = book_id_series[0]\n",
    "    \n",
    "    # Loop through IDs of recommended books (if idlist is a dictionary with book IDs)\n",
    "    if book_id in idlist:\n",
    "        for newid in idlist[book_id]:\n",
    "            book_list_name.append(books_dataset.iloc[newid].title)\n",
    "    \n",
    "    return book_list_name\n"
   ]
  },
  {
   "cell_type": "code",
   "execution_count": null,
   "metadata": {},
   "outputs": [],
   "source": []
  }
 ],
 "metadata": {
  "kernelspec": {
   "display_name": "Python 3",
   "language": "python",
   "name": "python3"
  },
  "language_info": {
   "codemirror_mode": {
    "name": "ipython",
    "version": 3
   },
   "file_extension": ".py",
   "mimetype": "text/x-python",
   "name": "python",
   "nbconvert_exporter": "python",
   "pygments_lexer": "ipython3",
   "version": "3.13.0"
  }
 },
 "nbformat": 4,
 "nbformat_minor": 2
}
